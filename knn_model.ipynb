{
 "cells": [
  {
   "cell_type": "markdown",
   "id": "8d8eb5ac",
   "metadata": {},
   "source": [
    "# KNN Model Exercise"
   ]
  },
  {
   "cell_type": "code",
   "execution_count": 60,
   "id": "48c89de5",
   "metadata": {},
   "outputs": [],
   "source": [
    "import pandas as pd\n",
    "import numpy as np\n",
    "import matplotlib.pyplot as plt\n",
    "\n",
    "from sklearn.metrics import accuracy_score\n",
    "from sklearn.neighbors import KNeighborsClassifier\n",
    "from sklearn.metrics import confusion_matrix\n",
    "from sklearn.metrics import ConfusionMatrixDisplay\n",
    "from sklearn.metrics import classification_report\n",
    "\n",
    "# For feature selection\n",
    "from sklearn.feature_selection import RFE\n",
    "\n",
    "\n",
    "import prepare"
   ]
  },
  {
   "cell_type": "markdown",
   "id": "f786427b",
   "metadata": {},
   "source": [
    "**Get dataset**"
   ]
  },
  {
   "cell_type": "code",
   "execution_count": 2,
   "id": "b1af0366",
   "metadata": {
    "scrolled": true
   },
   "outputs": [
    {
     "data": {
      "text/html": [
       "<div>\n",
       "<style scoped>\n",
       "    .dataframe tbody tr th:only-of-type {\n",
       "        vertical-align: middle;\n",
       "    }\n",
       "\n",
       "    .dataframe tbody tr th {\n",
       "        vertical-align: top;\n",
       "    }\n",
       "\n",
       "    .dataframe thead th {\n",
       "        text-align: right;\n",
       "    }\n",
       "</style>\n",
       "<table border=\"1\" class=\"dataframe\">\n",
       "  <thead>\n",
       "    <tr style=\"text-align: right;\">\n",
       "      <th></th>\n",
       "      <th>passenger_id</th>\n",
       "      <th>survived</th>\n",
       "      <th>pclass</th>\n",
       "      <th>sex</th>\n",
       "      <th>age</th>\n",
       "      <th>sibsp</th>\n",
       "      <th>parch</th>\n",
       "      <th>fare</th>\n",
       "      <th>embarked</th>\n",
       "      <th>alone</th>\n",
       "      <th>sex_male</th>\n",
       "      <th>embarked_Q</th>\n",
       "      <th>embarked_S</th>\n",
       "      <th>baseline</th>\n",
       "    </tr>\n",
       "  </thead>\n",
       "  <tbody>\n",
       "    <tr>\n",
       "      <th>0</th>\n",
       "      <td>0</td>\n",
       "      <td>0</td>\n",
       "      <td>3</td>\n",
       "      <td>male</td>\n",
       "      <td>22.0</td>\n",
       "      <td>1</td>\n",
       "      <td>0</td>\n",
       "      <td>7.2500</td>\n",
       "      <td>S</td>\n",
       "      <td>0</td>\n",
       "      <td>1</td>\n",
       "      <td>0</td>\n",
       "      <td>1</td>\n",
       "      <td>0</td>\n",
       "    </tr>\n",
       "    <tr>\n",
       "      <th>1</th>\n",
       "      <td>1</td>\n",
       "      <td>1</td>\n",
       "      <td>1</td>\n",
       "      <td>female</td>\n",
       "      <td>38.0</td>\n",
       "      <td>1</td>\n",
       "      <td>0</td>\n",
       "      <td>71.2833</td>\n",
       "      <td>C</td>\n",
       "      <td>0</td>\n",
       "      <td>0</td>\n",
       "      <td>0</td>\n",
       "      <td>0</td>\n",
       "      <td>0</td>\n",
       "    </tr>\n",
       "    <tr>\n",
       "      <th>2</th>\n",
       "      <td>2</td>\n",
       "      <td>1</td>\n",
       "      <td>3</td>\n",
       "      <td>female</td>\n",
       "      <td>26.0</td>\n",
       "      <td>0</td>\n",
       "      <td>0</td>\n",
       "      <td>7.9250</td>\n",
       "      <td>S</td>\n",
       "      <td>1</td>\n",
       "      <td>0</td>\n",
       "      <td>0</td>\n",
       "      <td>1</td>\n",
       "      <td>0</td>\n",
       "    </tr>\n",
       "    <tr>\n",
       "      <th>3</th>\n",
       "      <td>3</td>\n",
       "      <td>1</td>\n",
       "      <td>1</td>\n",
       "      <td>female</td>\n",
       "      <td>35.0</td>\n",
       "      <td>1</td>\n",
       "      <td>0</td>\n",
       "      <td>53.1000</td>\n",
       "      <td>S</td>\n",
       "      <td>0</td>\n",
       "      <td>0</td>\n",
       "      <td>0</td>\n",
       "      <td>1</td>\n",
       "      <td>0</td>\n",
       "    </tr>\n",
       "    <tr>\n",
       "      <th>4</th>\n",
       "      <td>4</td>\n",
       "      <td>0</td>\n",
       "      <td>3</td>\n",
       "      <td>male</td>\n",
       "      <td>35.0</td>\n",
       "      <td>0</td>\n",
       "      <td>0</td>\n",
       "      <td>8.0500</td>\n",
       "      <td>S</td>\n",
       "      <td>1</td>\n",
       "      <td>1</td>\n",
       "      <td>0</td>\n",
       "      <td>1</td>\n",
       "      <td>0</td>\n",
       "    </tr>\n",
       "  </tbody>\n",
       "</table>\n",
       "</div>"
      ],
      "text/plain": [
       "   passenger_id  survived  pclass     sex   age  sibsp  parch     fare  \\\n",
       "0             0         0       3    male  22.0      1      0   7.2500   \n",
       "1             1         1       1  female  38.0      1      0  71.2833   \n",
       "2             2         1       3  female  26.0      0      0   7.9250   \n",
       "3             3         1       1  female  35.0      1      0  53.1000   \n",
       "4             4         0       3    male  35.0      0      0   8.0500   \n",
       "\n",
       "  embarked  alone  sex_male  embarked_Q  embarked_S  baseline  \n",
       "0        S      0         1           0           1         0  \n",
       "1        C      0         0           0           0         0  \n",
       "2        S      1         0           0           1         0  \n",
       "3        S      0         0           0           1         0  \n",
       "4        S      1         1           0           1         0  "
      ]
     },
     "execution_count": 2,
     "metadata": {},
     "output_type": "execute_result"
    }
   ],
   "source": [
    "# use the titanic data feom prepare file\n",
    "titanic = prepare.prep_titanic()\n",
    "\n",
    "# create base line column\n",
    "titanic[\"baseline\"] = [int(titanic.survived.mode()) for i in range(len(titanic))]\n",
    "\n",
    "titanic.head()"
   ]
  },
  {
   "cell_type": "markdown",
   "id": "679cb01e",
   "metadata": {},
   "source": [
    "**Split the data**"
   ]
  },
  {
   "cell_type": "code",
   "execution_count": 3,
   "id": "4a3f0fb5",
   "metadata": {},
   "outputs": [
    {
     "data": {
      "text/plain": [
       "((489, 14), (223, 14), (179, 14))"
      ]
     },
     "execution_count": 3,
     "metadata": {},
     "output_type": "execute_result"
    }
   ],
   "source": [
    "train, validate, test = prepare.split_data_(df=titanic, validate_size=.25, random_state=95, stratify_col=\"survived\")\n",
    "\n",
    "train.shape, validate.shape, test.shape"
   ]
  },
  {
   "cell_type": "markdown",
   "id": "ef79ea5a",
   "metadata": {},
   "source": [
    "**Step 1: Separate the features from the targe.**\n",
    "\n",
    "Create X & y version of train, where y is a series with just the target variable and X are all the features."
   ]
  },
  {
   "cell_type": "code",
   "execution_count": 4,
   "id": "a7133c74",
   "metadata": {},
   "outputs": [],
   "source": [
    "# features are the x and y is the target\n",
    "xtrain = train.drop(columns=[\"age\",\"embarked\", \"sex\", \"passenger_id\", \"survived\"])\n",
    "ytrain = train.survived\n",
    "\n",
    "# -------------------------------------\n",
    "# features from p calss to alone\n",
    "xvalidate = validate.drop(columns=[\"age\",\"embarked\", \"sex\", \"passenger_id\", \"survived\"])\n",
    "yvalidate = validate.survived\n"
   ]
  },
  {
   "cell_type": "markdown",
   "id": "1bc66950",
   "metadata": {},
   "source": [
    "**Step 2: Train the model**\n",
    "\n",
    "Fit a K-Nearest Neighbors classifier to your training sample and transform (i.e. make predictions on the training sample)**"
   ]
  },
  {
   "cell_type": "code",
   "execution_count": 8,
   "id": "02a6c632",
   "metadata": {
    "scrolled": true
   },
   "outputs": [
    {
     "data": {
      "text/html": [
       "<style>#sk-container-id-2 {color: black;background-color: white;}#sk-container-id-2 pre{padding: 0;}#sk-container-id-2 div.sk-toggleable {background-color: white;}#sk-container-id-2 label.sk-toggleable__label {cursor: pointer;display: block;width: 100%;margin-bottom: 0;padding: 0.3em;box-sizing: border-box;text-align: center;}#sk-container-id-2 label.sk-toggleable__label-arrow:before {content: \"▸\";float: left;margin-right: 0.25em;color: #696969;}#sk-container-id-2 label.sk-toggleable__label-arrow:hover:before {color: black;}#sk-container-id-2 div.sk-estimator:hover label.sk-toggleable__label-arrow:before {color: black;}#sk-container-id-2 div.sk-toggleable__content {max-height: 0;max-width: 0;overflow: hidden;text-align: left;background-color: #f0f8ff;}#sk-container-id-2 div.sk-toggleable__content pre {margin: 0.2em;color: black;border-radius: 0.25em;background-color: #f0f8ff;}#sk-container-id-2 input.sk-toggleable__control:checked~div.sk-toggleable__content {max-height: 200px;max-width: 100%;overflow: auto;}#sk-container-id-2 input.sk-toggleable__control:checked~label.sk-toggleable__label-arrow:before {content: \"▾\";}#sk-container-id-2 div.sk-estimator input.sk-toggleable__control:checked~label.sk-toggleable__label {background-color: #d4ebff;}#sk-container-id-2 div.sk-label input.sk-toggleable__control:checked~label.sk-toggleable__label {background-color: #d4ebff;}#sk-container-id-2 input.sk-hidden--visually {border: 0;clip: rect(1px 1px 1px 1px);clip: rect(1px, 1px, 1px, 1px);height: 1px;margin: -1px;overflow: hidden;padding: 0;position: absolute;width: 1px;}#sk-container-id-2 div.sk-estimator {font-family: monospace;background-color: #f0f8ff;border: 1px dotted black;border-radius: 0.25em;box-sizing: border-box;margin-bottom: 0.5em;}#sk-container-id-2 div.sk-estimator:hover {background-color: #d4ebff;}#sk-container-id-2 div.sk-parallel-item::after {content: \"\";width: 100%;border-bottom: 1px solid gray;flex-grow: 1;}#sk-container-id-2 div.sk-label:hover label.sk-toggleable__label {background-color: #d4ebff;}#sk-container-id-2 div.sk-serial::before {content: \"\";position: absolute;border-left: 1px solid gray;box-sizing: border-box;top: 0;bottom: 0;left: 50%;z-index: 0;}#sk-container-id-2 div.sk-serial {display: flex;flex-direction: column;align-items: center;background-color: white;padding-right: 0.2em;padding-left: 0.2em;position: relative;}#sk-container-id-2 div.sk-item {position: relative;z-index: 1;}#sk-container-id-2 div.sk-parallel {display: flex;align-items: stretch;justify-content: center;background-color: white;position: relative;}#sk-container-id-2 div.sk-item::before, #sk-container-id-2 div.sk-parallel-item::before {content: \"\";position: absolute;border-left: 1px solid gray;box-sizing: border-box;top: 0;bottom: 0;left: 50%;z-index: -1;}#sk-container-id-2 div.sk-parallel-item {display: flex;flex-direction: column;z-index: 1;position: relative;background-color: white;}#sk-container-id-2 div.sk-parallel-item:first-child::after {align-self: flex-end;width: 50%;}#sk-container-id-2 div.sk-parallel-item:last-child::after {align-self: flex-start;width: 50%;}#sk-container-id-2 div.sk-parallel-item:only-child::after {width: 0;}#sk-container-id-2 div.sk-dashed-wrapped {border: 1px dashed gray;margin: 0 0.4em 0.5em 0.4em;box-sizing: border-box;padding-bottom: 0.4em;background-color: white;}#sk-container-id-2 div.sk-label label {font-family: monospace;font-weight: bold;display: inline-block;line-height: 1.2em;}#sk-container-id-2 div.sk-label-container {text-align: center;}#sk-container-id-2 div.sk-container {/* jupyter's `normalize.less` sets `[hidden] { display: none; }` but bootstrap.min.css set `[hidden] { display: none !important; }` so we also need the `!important` here to be able to override the default hidden behavior on the sphinx rendered scikit-learn.org. See: https://github.com/scikit-learn/scikit-learn/issues/21755 */display: inline-block !important;position: relative;}#sk-container-id-2 div.sk-text-repr-fallback {display: none;}</style><div id=\"sk-container-id-2\" class=\"sk-top-container\"><div class=\"sk-text-repr-fallback\"><pre>KNeighborsClassifier(p=1, weights=&#x27;distance&#x27;)</pre><b>In a Jupyter environment, please rerun this cell to show the HTML representation or trust the notebook. <br />On GitHub, the HTML representation is unable to render, please try loading this page with nbviewer.org.</b></div><div class=\"sk-container\" hidden><div class=\"sk-item\"><div class=\"sk-estimator sk-toggleable\"><input class=\"sk-toggleable__control sk-hidden--visually\" id=\"sk-estimator-id-2\" type=\"checkbox\" checked><label for=\"sk-estimator-id-2\" class=\"sk-toggleable__label sk-toggleable__label-arrow\">KNeighborsClassifier</label><div class=\"sk-toggleable__content\"><pre>KNeighborsClassifier(p=1, weights=&#x27;distance&#x27;)</pre></div></div></div></div></div>"
      ],
      "text/plain": [
       "KNeighborsClassifier(p=1, weights='distance')"
      ]
     },
     "execution_count": 8,
     "metadata": {},
     "output_type": "execute_result"
    }
   ],
   "source": [
    "# create a knn object\n",
    "#                          n_neighborsint(default=5) \n",
    "knn = KNeighborsClassifier(n_neighbors=5, weights='distance', p=1)\n",
    "#                                                        p=1 uses the manhattan distance\n",
    "knn"
   ]
  },
  {
   "cell_type": "code",
   "execution_count": 10,
   "id": "088b4adc",
   "metadata": {},
   "outputs": [
    {
     "data": {
      "text/html": [
       "<style>#sk-container-id-3 {color: black;background-color: white;}#sk-container-id-3 pre{padding: 0;}#sk-container-id-3 div.sk-toggleable {background-color: white;}#sk-container-id-3 label.sk-toggleable__label {cursor: pointer;display: block;width: 100%;margin-bottom: 0;padding: 0.3em;box-sizing: border-box;text-align: center;}#sk-container-id-3 label.sk-toggleable__label-arrow:before {content: \"▸\";float: left;margin-right: 0.25em;color: #696969;}#sk-container-id-3 label.sk-toggleable__label-arrow:hover:before {color: black;}#sk-container-id-3 div.sk-estimator:hover label.sk-toggleable__label-arrow:before {color: black;}#sk-container-id-3 div.sk-toggleable__content {max-height: 0;max-width: 0;overflow: hidden;text-align: left;background-color: #f0f8ff;}#sk-container-id-3 div.sk-toggleable__content pre {margin: 0.2em;color: black;border-radius: 0.25em;background-color: #f0f8ff;}#sk-container-id-3 input.sk-toggleable__control:checked~div.sk-toggleable__content {max-height: 200px;max-width: 100%;overflow: auto;}#sk-container-id-3 input.sk-toggleable__control:checked~label.sk-toggleable__label-arrow:before {content: \"▾\";}#sk-container-id-3 div.sk-estimator input.sk-toggleable__control:checked~label.sk-toggleable__label {background-color: #d4ebff;}#sk-container-id-3 div.sk-label input.sk-toggleable__control:checked~label.sk-toggleable__label {background-color: #d4ebff;}#sk-container-id-3 input.sk-hidden--visually {border: 0;clip: rect(1px 1px 1px 1px);clip: rect(1px, 1px, 1px, 1px);height: 1px;margin: -1px;overflow: hidden;padding: 0;position: absolute;width: 1px;}#sk-container-id-3 div.sk-estimator {font-family: monospace;background-color: #f0f8ff;border: 1px dotted black;border-radius: 0.25em;box-sizing: border-box;margin-bottom: 0.5em;}#sk-container-id-3 div.sk-estimator:hover {background-color: #d4ebff;}#sk-container-id-3 div.sk-parallel-item::after {content: \"\";width: 100%;border-bottom: 1px solid gray;flex-grow: 1;}#sk-container-id-3 div.sk-label:hover label.sk-toggleable__label {background-color: #d4ebff;}#sk-container-id-3 div.sk-serial::before {content: \"\";position: absolute;border-left: 1px solid gray;box-sizing: border-box;top: 0;bottom: 0;left: 50%;z-index: 0;}#sk-container-id-3 div.sk-serial {display: flex;flex-direction: column;align-items: center;background-color: white;padding-right: 0.2em;padding-left: 0.2em;position: relative;}#sk-container-id-3 div.sk-item {position: relative;z-index: 1;}#sk-container-id-3 div.sk-parallel {display: flex;align-items: stretch;justify-content: center;background-color: white;position: relative;}#sk-container-id-3 div.sk-item::before, #sk-container-id-3 div.sk-parallel-item::before {content: \"\";position: absolute;border-left: 1px solid gray;box-sizing: border-box;top: 0;bottom: 0;left: 50%;z-index: -1;}#sk-container-id-3 div.sk-parallel-item {display: flex;flex-direction: column;z-index: 1;position: relative;background-color: white;}#sk-container-id-3 div.sk-parallel-item:first-child::after {align-self: flex-end;width: 50%;}#sk-container-id-3 div.sk-parallel-item:last-child::after {align-self: flex-start;width: 50%;}#sk-container-id-3 div.sk-parallel-item:only-child::after {width: 0;}#sk-container-id-3 div.sk-dashed-wrapped {border: 1px dashed gray;margin: 0 0.4em 0.5em 0.4em;box-sizing: border-box;padding-bottom: 0.4em;background-color: white;}#sk-container-id-3 div.sk-label label {font-family: monospace;font-weight: bold;display: inline-block;line-height: 1.2em;}#sk-container-id-3 div.sk-label-container {text-align: center;}#sk-container-id-3 div.sk-container {/* jupyter's `normalize.less` sets `[hidden] { display: none; }` but bootstrap.min.css set `[hidden] { display: none !important; }` so we also need the `!important` here to be able to override the default hidden behavior on the sphinx rendered scikit-learn.org. See: https://github.com/scikit-learn/scikit-learn/issues/21755 */display: inline-block !important;position: relative;}#sk-container-id-3 div.sk-text-repr-fallback {display: none;}</style><div id=\"sk-container-id-3\" class=\"sk-top-container\"><div class=\"sk-text-repr-fallback\"><pre>KNeighborsClassifier(p=1, weights=&#x27;distance&#x27;)</pre><b>In a Jupyter environment, please rerun this cell to show the HTML representation or trust the notebook. <br />On GitHub, the HTML representation is unable to render, please try loading this page with nbviewer.org.</b></div><div class=\"sk-container\" hidden><div class=\"sk-item\"><div class=\"sk-estimator sk-toggleable\"><input class=\"sk-toggleable__control sk-hidden--visually\" id=\"sk-estimator-id-3\" type=\"checkbox\" checked><label for=\"sk-estimator-id-3\" class=\"sk-toggleable__label sk-toggleable__label-arrow\">KNeighborsClassifier</label><div class=\"sk-toggleable__content\"><pre>KNeighborsClassifier(p=1, weights=&#x27;distance&#x27;)</pre></div></div></div></div></div>"
      ],
      "text/plain": [
       "KNeighborsClassifier(p=1, weights='distance')"
      ]
     },
     "execution_count": 10,
     "metadata": {},
     "output_type": "execute_result"
    }
   ],
   "source": [
    "# fit training data to the object\n",
    "knn.fit(xtrain, ytrain)"
   ]
  },
  {
   "cell_type": "markdown",
   "id": "86517c02",
   "metadata": {},
   "source": [
    "**Step 3: Make prediction**"
   ]
  },
  {
   "cell_type": "code",
   "execution_count": 13,
   "id": "6596408e",
   "metadata": {},
   "outputs": [
    {
     "data": {
      "text/plain": [
       "array([0, 0, 0, 1, 0, 0, 1, 1, 0, 0])"
      ]
     },
     "execution_count": 13,
     "metadata": {},
     "output_type": "execute_result"
    }
   ],
   "source": [
    "# use our model to make predictions\n",
    "ypred = knn.predict(xtrain)\n",
    "ypred[:10]"
   ]
  },
  {
   "cell_type": "code",
   "execution_count": 15,
   "id": "f6dfb102",
   "metadata": {},
   "outputs": [
    {
     "data": {
      "text/plain": [
       "array([[0.75, 0.25],\n",
       "       [1.  , 0.  ],\n",
       "       [1.  , 0.  ],\n",
       "       [0.  , 1.  ],\n",
       "       [0.8 , 0.2 ]])"
      ]
     },
     "execution_count": 15,
     "metadata": {},
     "output_type": "execute_result"
    }
   ],
   "source": [
    "# Estimate probability for each prediction\n",
    "ypred_proba = knn.predict_proba(xtrain) # each list represents how the prediction was made\n",
    "ypred_proba[:5]"
   ]
  },
  {
   "cell_type": "code",
   "execution_count": 16,
   "id": "ad6bf91b",
   "metadata": {},
   "outputs": [
    {
     "data": {
      "text/plain": [
       "array([0, 1])"
      ]
     },
     "execution_count": 16,
     "metadata": {},
     "output_type": "execute_result"
    }
   ],
   "source": [
    "# survised = 1 \n",
    "# didn't make it = 0\n",
    "knn.classes_"
   ]
  },
  {
   "cell_type": "code",
   "execution_count": 28,
   "id": "bcab48c2",
   "metadata": {},
   "outputs": [
    {
     "data": {
      "text/html": [
       "<div>\n",
       "<style scoped>\n",
       "    .dataframe tbody tr th:only-of-type {\n",
       "        vertical-align: middle;\n",
       "    }\n",
       "\n",
       "    .dataframe tbody tr th {\n",
       "        vertical-align: top;\n",
       "    }\n",
       "\n",
       "    .dataframe thead th {\n",
       "        text-align: right;\n",
       "    }\n",
       "</style>\n",
       "<table border=\"1\" class=\"dataframe\">\n",
       "  <thead>\n",
       "    <tr style=\"text-align: right;\">\n",
       "      <th></th>\n",
       "      <th>ytrain</th>\n",
       "      <th>ypred</th>\n",
       "    </tr>\n",
       "  </thead>\n",
       "  <tbody>\n",
       "    <tr>\n",
       "      <th>391</th>\n",
       "      <td>1</td>\n",
       "      <td>0</td>\n",
       "    </tr>\n",
       "    <tr>\n",
       "      <th>392</th>\n",
       "      <td>0</td>\n",
       "      <td>0</td>\n",
       "    </tr>\n",
       "    <tr>\n",
       "      <th>560</th>\n",
       "      <td>0</td>\n",
       "      <td>0</td>\n",
       "    </tr>\n",
       "    <tr>\n",
       "      <th>489</th>\n",
       "      <td>1</td>\n",
       "      <td>1</td>\n",
       "    </tr>\n",
       "    <tr>\n",
       "      <th>589</th>\n",
       "      <td>0</td>\n",
       "      <td>0</td>\n",
       "    </tr>\n",
       "  </tbody>\n",
       "</table>\n",
       "</div>"
      ],
      "text/plain": [
       "     ytrain  ypred\n",
       "391       1      0\n",
       "392       0      0\n",
       "560       0      0\n",
       "489       1      1\n",
       "589       0      0"
      ]
     },
     "execution_count": 28,
     "metadata": {},
     "output_type": "execute_result"
    }
   ],
   "source": [
    "pd.DataFrame({\n",
    "    \"ytrain\": ytrain,\n",
    "    \"ypred\": ypred\n",
    "}).head()"
   ]
  },
  {
   "cell_type": "markdown",
   "id": "916a9a38",
   "metadata": {},
   "source": [
    "**Step 4: Evaluate prediction results**\n",
    "\n",
    "Evaluate your results using the model score, confusion matrix, and classification report."
   ]
  },
  {
   "cell_type": "code",
   "execution_count": 39,
   "id": "79f7aff7",
   "metadata": {},
   "outputs": [
    {
     "data": {
      "text/plain": [
       "0.9386503067484663"
      ]
     },
     "execution_count": 39,
     "metadata": {},
     "output_type": "execute_result"
    }
   ],
   "source": [
    "# model accuracy\n",
    "accuracy = knn.score(xtrain, ytrain)\n",
    "accuracy"
   ]
  },
  {
   "cell_type": "code",
   "execution_count": 31,
   "id": "488037bf",
   "metadata": {},
   "outputs": [
    {
     "data": {
      "text/plain": [
       "array([[294,   8],\n",
       "       [ 22, 165]])"
      ]
     },
     "execution_count": 31,
     "metadata": {},
     "output_type": "execute_result"
    }
   ],
   "source": [
    "# confusion matrix agaist the prediction\n",
    "confMt = confusion_matrix(ytrain, ypred)\n",
    "confMt"
   ]
  },
  {
   "cell_type": "code",
   "execution_count": 32,
   "id": "1102f16b",
   "metadata": {},
   "outputs": [
    {
     "data": {
      "text/plain": [
       "<sklearn.metrics._plot.confusion_matrix.ConfusionMatrixDisplay at 0x124f63970>"
      ]
     },
     "execution_count": 32,
     "metadata": {},
     "output_type": "execute_result"
    },
    {
     "data": {
      "image/png": "[encoded data removed]",
      "text/plain": [
       "<Figure size 640x480 with 2 Axes>"
      ]
     },
     "metadata": {},
     "output_type": "display_data"
    }
   ],
   "source": [
    "# Disply the matrix\n",
    "ConfusionMatrixDisplay.from_estimator(knn, xtrain, ytrain)"
   ]
  },
  {
   "cell_type": "code",
   "execution_count": 33,
   "id": "f6fd2f78",
   "metadata": {},
   "outputs": [
    {
     "name": "stdout",
     "output_type": "stream",
     "text": [
      "              precision    recall  f1-score   support\n",
      "\n",
      "           0       0.93      0.97      0.95       302\n",
      "           1       0.95      0.88      0.92       187\n",
      "\n",
      "    accuracy                           0.94       489\n",
      "   macro avg       0.94      0.93      0.93       489\n",
      "weighted avg       0.94      0.94      0.94       489\n",
      "\n"
     ]
    }
   ],
   "source": [
    "# clssifiaction report\n",
    "class_report = classification_report(ytrain, ypred)\n",
    "print(class_report)"
   ]
  },
  {
   "cell_type": "markdown",
   "id": "498e7ae7",
   "metadata": {},
   "source": [
    "3. Print and clearly label the following: Accuracy, true positive rate, false positive rate, true negative rate, false negative rate, precision, recall, f1-score, and support."
   ]
  },
  {
   "cell_type": "code",
   "execution_count": 42,
   "id": "451bc265",
   "metadata": {},
   "outputs": [
    {
     "data": {
      "text/html": [
       "<div>\n",
       "<style scoped>\n",
       "    .dataframe tbody tr th:only-of-type {\n",
       "        vertical-align: middle;\n",
       "    }\n",
       "\n",
       "    .dataframe tbody tr th {\n",
       "        vertical-align: top;\n",
       "    }\n",
       "\n",
       "    .dataframe thead th {\n",
       "        text-align: right;\n",
       "    }\n",
       "</style>\n",
       "<table border=\"1\" class=\"dataframe\">\n",
       "  <thead>\n",
       "    <tr style=\"text-align: right;\">\n",
       "      <th></th>\n",
       "      <th>metric</th>\n",
       "      <th>score</th>\n",
       "    </tr>\n",
       "  </thead>\n",
       "  <tbody>\n",
       "    <tr>\n",
       "      <th>0</th>\n",
       "      <td>accuracy</td>\n",
       "      <td>0.938650</td>\n",
       "    </tr>\n",
       "    <tr>\n",
       "      <th>1</th>\n",
       "      <td>true_positive_rate</td>\n",
       "      <td>0.117647</td>\n",
       "    </tr>\n",
       "    <tr>\n",
       "      <th>2</th>\n",
       "      <td>false_positive_rate</td>\n",
       "      <td>0.973510</td>\n",
       "    </tr>\n",
       "    <tr>\n",
       "      <th>3</th>\n",
       "      <td>true_negative_rate</td>\n",
       "      <td>0.026490</td>\n",
       "    </tr>\n",
       "    <tr>\n",
       "      <th>4</th>\n",
       "      <td>false_negative_rate</td>\n",
       "      <td>0.882353</td>\n",
       "    </tr>\n",
       "    <tr>\n",
       "      <th>5</th>\n",
       "      <td>precision</td>\n",
       "      <td>0.069620</td>\n",
       "    </tr>\n",
       "    <tr>\n",
       "      <th>6</th>\n",
       "      <td>recall</td>\n",
       "      <td>0.117647</td>\n",
       "    </tr>\n",
       "    <tr>\n",
       "      <th>7</th>\n",
       "      <td>f1_score</td>\n",
       "      <td>0.087475</td>\n",
       "    </tr>\n",
       "    <tr>\n",
       "      <th>8</th>\n",
       "      <td>support_pos</td>\n",
       "      <td>187.000000</td>\n",
       "    </tr>\n",
       "    <tr>\n",
       "      <th>9</th>\n",
       "      <td>support_neg</td>\n",
       "      <td>302.000000</td>\n",
       "    </tr>\n",
       "  </tbody>\n",
       "</table>\n",
       "</div>"
      ],
      "text/plain": [
       "                metric       score\n",
       "0             accuracy    0.938650\n",
       "1   true_positive_rate    0.117647\n",
       "2  false_positive_rate    0.973510\n",
       "3   true_negative_rate    0.026490\n",
       "4  false_negative_rate    0.882353\n",
       "5            precision    0.069620\n",
       "6               recall    0.117647\n",
       "7             f1_score    0.087475\n",
       "8          support_pos  187.000000\n",
       "9          support_neg  302.000000"
      ]
     },
     "execution_count": 42,
     "metadata": {},
     "output_type": "execute_result"
    }
   ],
   "source": [
    "FP,TN, TP, FN = confMt.ravel()\n",
    "\n",
    "# compute rates\n",
    "true_positive_rate = TP/(TP + FN)\n",
    "false_positive_rate = FP/(FP + TN)\n",
    "true_negative_rate = TN/(TN + FP)\n",
    "false_negative_rate = FN/(FN + TP)\n",
    "\n",
    "precision = TP/(TP + FP)\n",
    "recall = TP/(TP + FN)\n",
    "f1_score = 2*(precision*recall)/(precision+recall)\n",
    "\n",
    "support_pos = TP + FN\n",
    "support_neg = FP + TN\n",
    "\n",
    "dict = {\n",
    "    'metric' : ['accuracy'\n",
    "                ,'true_positive_rate'\n",
    "                ,'false_positive_rate'\n",
    "                ,'true_negative_rate'\n",
    "                ,'false_negative_rate'\n",
    "                ,'precision'\n",
    "                ,'recall'\n",
    "                ,'f1_score'\n",
    "                ,'support_pos'\n",
    "                ,'support_neg']\n",
    "    ,'score' : [accuracy\n",
    "                ,true_positive_rate\n",
    "                ,false_positive_rate\n",
    "                ,true_negative_rate\n",
    "                ,false_negative_rate\n",
    "                ,precision\n",
    "                ,recall\n",
    "                ,f1_score\n",
    "                ,support_pos\n",
    "                ,support_neg]\n",
    "}\n",
    "\n",
    "pd.DataFrame(dict)"
   ]
  },
  {
   "cell_type": "markdown",
   "id": "2d690cdf",
   "metadata": {},
   "source": [
    "**4. Run through steps 1-3 setting k to 10**"
   ]
  },
  {
   "cell_type": "code",
   "execution_count": 52,
   "id": "3d6a48d7",
   "metadata": {},
   "outputs": [],
   "source": [
    "def compute_knn(xtrain, ytrain, k):\n",
    "    # get a knn object\n",
    "    knn = KNeighborsClassifier(n_neighbors=k, weights='distance', p=1)\n",
    "\n",
    "    # fit the model\n",
    "    knn.fit(xtrain, ytrain) \n",
    "    \n",
    "    # predict the target\n",
    "    ypred = knn.predict(xtrain)\n",
    "\n",
    "    # estimate probability\n",
    "    ypred_proba = knn.predict_proba(xtrain)\n",
    "    \n",
    "    # accuracy score for knn\n",
    "    knn_acc = knn.score(xtrain, ytrain)\n",
    "\n",
    "    # confution matrix agaist the prediction\n",
    "    comfusion_mtx = confusion_matrix(ytrain, ypred)\n",
    "\n",
    "    class_report = classification_report(ytrain, ypred)\n",
    "\n",
    "    return knn, xtrain, ytrain, ypred, ypred_proba, knn_acc, comfusion_mtx, class_report "
   ]
  },
  {
   "cell_type": "code",
   "execution_count": 53,
   "id": "b9ea04f8",
   "metadata": {},
   "outputs": [],
   "source": [
    "# umpack the knn computation function\n",
    "knn, xtrain, ytrain, ypred, ypred_proba, knn_acc, comfusion_mtx, class_report  = compute_knn(xtrain, ytrain, 10)\n"
   ]
  },
  {
   "cell_type": "code",
   "execution_count": 54,
   "id": "acf770aa",
   "metadata": {},
   "outputs": [
    {
     "name": "stdout",
     "output_type": "stream",
     "text": [
      "              precision    recall  f1-score   support\n",
      "\n",
      "           0       0.92      0.98      0.95       302\n",
      "           1       0.97      0.87      0.92       187\n",
      "\n",
      "    accuracy                           0.94       489\n",
      "   macro avg       0.95      0.92      0.93       489\n",
      "weighted avg       0.94      0.94      0.94       489\n",
      "\n"
     ]
    },
    {
     "data": {
      "text/plain": [
       "<sklearn.metrics._plot.confusion_matrix.ConfusionMatrixDisplay at 0x126539b70>"
      ]
     },
     "execution_count": 54,
     "metadata": {},
     "output_type": "execute_result"
    },
    {
     "data": {
      "image/png": "[encoded data removed]",
      "text/plain": [
       "<Figure size 640x480 with 2 Axes>"
      ]
     },
     "metadata": {},
     "output_type": "display_data"
    }
   ],
   "source": [
    "print(class_report)\n",
    "\n",
    "ConfusionMatrixDisplay.from_estimator(knn, xtrain, ytrain)"
   ]
  },
  {
   "cell_type": "markdown",
   "id": "26509ee2",
   "metadata": {},
   "source": [
    "**5. Run through steps 1-3 setting k to 20**"
   ]
  },
  {
   "cell_type": "code",
   "execution_count": 55,
   "id": "84f2263d",
   "metadata": {},
   "outputs": [],
   "source": [
    "# umpack the knn computation function\n",
    "knn, xtrain, ytrain, ypred, ypred_proba, knn_acc, comfusion_mtx, class_report  = compute_knn(xtrain, ytrain, 20)\n"
   ]
  },
  {
   "cell_type": "code",
   "execution_count": 56,
   "id": "9d17f657",
   "metadata": {},
   "outputs": [
    {
     "name": "stdout",
     "output_type": "stream",
     "text": [
      "              precision    recall  f1-score   support\n",
      "\n",
      "           0       0.92      0.98      0.95       302\n",
      "           1       0.97      0.87      0.92       187\n",
      "\n",
      "    accuracy                           0.94       489\n",
      "   macro avg       0.95      0.92      0.93       489\n",
      "weighted avg       0.94      0.94      0.94       489\n",
      "\n"
     ]
    },
    {
     "data": {
      "text/plain": [
       "<sklearn.metrics._plot.confusion_matrix.ConfusionMatrixDisplay at 0x12663b4f0>"
      ]
     },
     "execution_count": 56,
     "metadata": {},
     "output_type": "execute_result"
    },
    {
     "data": {
      "image/png": "[encoded data removed]",
      "text/plain": [
       "<Figure size 640x480 with 2 Axes>"
      ]
     },
     "metadata": {},
     "output_type": "display_data"
    }
   ],
   "source": [
    "print(class_report)\n",
    "\n",
    "ConfusionMatrixDisplay.from_estimator(knn, xtrain, ytrain)"
   ]
  },
  {
   "cell_type": "markdown",
   "id": "f66a447b",
   "metadata": {},
   "source": [
    "6. What are the differences in the evaluation metrics? Which performs better on your in-sample data? Why?"
   ]
  },
  {
   "cell_type": "code",
   "execution_count": 66,
   "id": "8c165157",
   "metadata": {},
   "outputs": [
    {
     "data": {
      "text/plain": [
       "(0.6175869120654397, 0.6143497757847534)"
      ]
     },
     "execution_count": 66,
     "metadata": {},
     "output_type": "execute_result"
    }
   ],
   "source": [
    "# compute for my beseline accuracy score\n",
    "train_baseline_acc_score = accuracy_score(train.survived,train.baseline)\n",
    "val_baseline_acc_score = accuracy_score(validate.survived,validate.baseline)\n",
    "\n",
    "train_baseline_acc_score, val_baseline_acc_score"
   ]
  },
  {
   "cell_type": "code",
   "execution_count": 67,
   "id": "085d6874",
   "metadata": {},
   "outputs": [],
   "source": [
    "metrics = []\n",
    "\n",
    "for k in range(1, 21):\n",
    "    #MAKE the thing\n",
    "    knn = KNeighborsClassifier(n_neighbors=k)\n",
    "    \n",
    "    #FIT the thing\n",
    "    knn.fit(xtrain, ytrain)\n",
    "    \n",
    "    #USE the thing\n",
    "    train_score= knn.score(xtrain, ytrain)\n",
    "    validate_score = knn.score(xvalidate, yvalidate)\n",
    "    \n",
    "    # create a dictionary of scores\n",
    "    output = {\n",
    "        \"k\": k,\n",
    "        \"train_score\": train_score,\n",
    "        \"validate_score\": validate_score,\n",
    "        \"difference\": train_score - validate_score,\n",
    "        \"train_baseline_diff\": train_baseline_acc_score - train_score,\n",
    "        \"val_baseline_diff\": val_baseline_acc_score - validate_score\n",
    "    }\n",
    "    \n",
    "    metrics.append(output)"
   ]
  },
  {
   "cell_type": "code",
   "execution_count": 68,
   "id": "d8edd05b",
   "metadata": {},
   "outputs": [
    {
     "data": {
      "text/html": [
       "<div>\n",
       "<style scoped>\n",
       "    .dataframe tbody tr th:only-of-type {\n",
       "        vertical-align: middle;\n",
       "    }\n",
       "\n",
       "    .dataframe tbody tr th {\n",
       "        vertical-align: top;\n",
       "    }\n",
       "\n",
       "    .dataframe thead th {\n",
       "        text-align: right;\n",
       "    }\n",
       "</style>\n",
       "<table border=\"1\" class=\"dataframe\">\n",
       "  <thead>\n",
       "    <tr style=\"text-align: right;\">\n",
       "      <th></th>\n",
       "      <th>k</th>\n",
       "      <th>train_score</th>\n",
       "      <th>validate_score</th>\n",
       "      <th>difference</th>\n",
       "      <th>train_baseline_diff</th>\n",
       "      <th>val_baseline_diff</th>\n",
       "    </tr>\n",
       "  </thead>\n",
       "  <tbody>\n",
       "    <tr>\n",
       "      <th>0</th>\n",
       "      <td>1</td>\n",
       "      <td>0.920245</td>\n",
       "      <td>0.721973</td>\n",
       "      <td>0.198272</td>\n",
       "      <td>-0.302658</td>\n",
       "      <td>-0.107623</td>\n",
       "    </tr>\n",
       "    <tr>\n",
       "      <th>1</th>\n",
       "      <td>2</td>\n",
       "      <td>0.836401</td>\n",
       "      <td>0.677130</td>\n",
       "      <td>0.159271</td>\n",
       "      <td>-0.218814</td>\n",
       "      <td>-0.062780</td>\n",
       "    </tr>\n",
       "    <tr>\n",
       "      <th>2</th>\n",
       "      <td>3</td>\n",
       "      <td>0.848671</td>\n",
       "      <td>0.762332</td>\n",
       "      <td>0.086339</td>\n",
       "      <td>-0.231084</td>\n",
       "      <td>-0.147982</td>\n",
       "    </tr>\n",
       "    <tr>\n",
       "      <th>3</th>\n",
       "      <td>4</td>\n",
       "      <td>0.820041</td>\n",
       "      <td>0.775785</td>\n",
       "      <td>0.044256</td>\n",
       "      <td>-0.202454</td>\n",
       "      <td>-0.161435</td>\n",
       "    </tr>\n",
       "    <tr>\n",
       "      <th>4</th>\n",
       "      <td>5</td>\n",
       "      <td>0.799591</td>\n",
       "      <td>0.748879</td>\n",
       "      <td>0.050712</td>\n",
       "      <td>-0.182004</td>\n",
       "      <td>-0.134529</td>\n",
       "    </tr>\n",
       "  </tbody>\n",
       "</table>\n",
       "</div>"
      ],
      "text/plain": [
       "   k  train_score  validate_score  difference  train_baseline_diff  \\\n",
       "0  1     0.920245        0.721973    0.198272            -0.302658   \n",
       "1  2     0.836401        0.677130    0.159271            -0.218814   \n",
       "2  3     0.848671        0.762332    0.086339            -0.231084   \n",
       "3  4     0.820041        0.775785    0.044256            -0.202454   \n",
       "4  5     0.799591        0.748879    0.050712            -0.182004   \n",
       "\n",
       "   val_baseline_diff  \n",
       "0          -0.107623  \n",
       "1          -0.062780  \n",
       "2          -0.147982  \n",
       "3          -0.161435  \n",
       "4          -0.134529  "
      ]
     },
     "execution_count": 68,
     "metadata": {},
     "output_type": "execute_result"
    }
   ],
   "source": [
    "df = pd.DataFrame(metrics)\n",
    "df.head()"
   ]
  },
  {
   "cell_type": "markdown",
   "id": "672cb02b",
   "metadata": {},
   "source": [
    "7. Which model performs best on our out-of-sample data from validate?"
   ]
  },
  {
   "cell_type": "code",
   "execution_count": 71,
   "id": "6226db45",
   "metadata": {},
   "outputs": [
    {
     "data": {
      "text/html": [
       "<div>\n",
       "<style scoped>\n",
       "    .dataframe tbody tr th:only-of-type {\n",
       "        vertical-align: middle;\n",
       "    }\n",
       "\n",
       "    .dataframe tbody tr th {\n",
       "        vertical-align: top;\n",
       "    }\n",
       "\n",
       "    .dataframe thead th {\n",
       "        text-align: right;\n",
       "    }\n",
       "</style>\n",
       "<table border=\"1\" class=\"dataframe\">\n",
       "  <thead>\n",
       "    <tr style=\"text-align: right;\">\n",
       "      <th></th>\n",
       "      <th>0</th>\n",
       "    </tr>\n",
       "  </thead>\n",
       "  <tbody>\n",
       "    <tr>\n",
       "      <th>k</th>\n",
       "      <td>20.000000</td>\n",
       "    </tr>\n",
       "    <tr>\n",
       "      <th>train_score</th>\n",
       "      <td>0.920245</td>\n",
       "    </tr>\n",
       "    <tr>\n",
       "      <th>validate_score</th>\n",
       "      <td>0.775785</td>\n",
       "    </tr>\n",
       "    <tr>\n",
       "      <th>difference</th>\n",
       "      <td>0.198272</td>\n",
       "    </tr>\n",
       "    <tr>\n",
       "      <th>train_baseline_diff</th>\n",
       "      <td>-0.083845</td>\n",
       "    </tr>\n",
       "    <tr>\n",
       "      <th>val_baseline_diff</th>\n",
       "      <td>-0.062780</td>\n",
       "    </tr>\n",
       "  </tbody>\n",
       "</table>\n",
       "</div>"
      ],
      "text/plain": [
       "                             0\n",
       "k                    20.000000\n",
       "train_score           0.920245\n",
       "validate_score        0.775785\n",
       "difference            0.198272\n",
       "train_baseline_diff  -0.083845\n",
       "val_baseline_diff    -0.062780"
      ]
     },
     "execution_count": 71,
     "metadata": {},
     "output_type": "execute_result"
    }
   ],
   "source": [
    "# max values\n",
    "pd.DataFrame(df.max())"
   ]
  },
  {
   "cell_type": "code",
   "execution_count": 74,
   "id": "22ecb828",
   "metadata": {},
   "outputs": [
    {
     "data": {
      "image/png": "[encoded data removed]",
      "text/plain": [
       "<Figure size 640x480 with 1 Axes>"
      ]
     },
     "metadata": {},
     "output_type": "display_data"
    }
   ],
   "source": [
    "#PLOT the data\n",
    "df[df.columns[:-3]].set_index(\"k\").plot()\n",
    "plt.ylabel('accuracy')\n",
    "plt.xticks(np.arange(2,20))\n",
    "plt.grid()\n",
    "plt.show()"
   ]
  },
  {
   "cell_type": "code",
   "execution_count": 77,
   "id": "91a8939e",
   "metadata": {},
   "outputs": [
    {
     "data": {
      "image/png": "[encoded data removed]",
      "text/plain": [
       "<Figure size 640x480 with 1 Axes>"
      ]
     },
     "metadata": {},
     "output_type": "display_data"
    }
   ],
   "source": [
    "df.drop(columns=[\"difference\",\"validate_score\", \"train_score\"]).set_index(\"k\").plot()\n",
    "plt.ylabel('Distance from base line')\n",
    "plt.xticks(np.arange(2,20))\n",
    "plt.grid()\n",
    "plt.show()"
   ]
  },
  {
   "cell_type": "code",
   "execution_count": 78,
   "id": "20db0ef8",
   "metadata": {},
   "outputs": [
    {
     "data": {
      "image/png": "[encoded data removed]",
      "text/plain": [
       "<Figure size 640x480 with 1 Axes>"
      ]
     },
     "metadata": {},
     "output_type": "display_data"
    }
   ],
   "source": [
    "df[[\"difference\", \"k\"]].set_index(\"k\").plot()\n",
    "plt.ylabel('Distance from each other')\n",
    "plt.xticks(np.arange(2,20))\n",
    "plt.grid()\n",
    "plt.show()"
   ]
  },
  {
   "cell_type": "markdown",
   "id": "8bc59f53",
   "metadata": {},
   "source": [
    "Model 9 looks to be performing better in this case."
   ]
  }
 ],
 "metadata": {
  "kernelspec": {
   "display_name": "Python 3 (ipykernel)",
   "language": "python",
   "name": "python3"
  },
  "language_info": {
   "codemirror_mode": {
    "name": "ipython",
    "version": 3
   },
   "file_extension": ".py",
   "mimetype": "text/x-python",
   "name": "python",
   "nbconvert_exporter": "python",
   "pygments_lexer": "ipython3",
   "version": "3.10.9"
  }
 },
 "nbformat": 4,
 "nbformat_minor": 5
}
