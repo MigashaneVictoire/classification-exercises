{
 "cells": [
  {
   "cell_type": "markdown",
   "id": "704cb157",
   "metadata": {},
   "source": [
    "# Logistic Regression Exercise"
   ]
  },
  {
   "cell_type": "code",
   "execution_count": 64,
   "id": "97d85ae0",
   "metadata": {},
   "outputs": [],
   "source": [
    "import pandas as pd\n",
    "import numpy as np\n",
    "import matplotlib.pyplot as plt\n",
    "\n",
    "from sklearn.metrics import accuracy_score\n",
    "from sklearn.metrics import confusion_matrix\n",
    "from sklearn.metrics import classification_report\n",
    "from sklearn.metrics import ConfusionMatrixDisplay\n",
    "from sklearn.linear_model import LogisticRegression\n",
    "\n",
    "import prepare"
   ]
  },
  {
   "cell_type": "code",
   "execution_count": 65,
   "id": "42889c85",
   "metadata": {},
   "outputs": [
    {
     "data": {
      "text/html": [
       "<div>\n",
       "<style scoped>\n",
       "    .dataframe tbody tr th:only-of-type {\n",
       "        vertical-align: middle;\n",
       "    }\n",
       "\n",
       "    .dataframe tbody tr th {\n",
       "        vertical-align: top;\n",
       "    }\n",
       "\n",
       "    .dataframe thead th {\n",
       "        text-align: right;\n",
       "    }\n",
       "</style>\n",
       "<table border=\"1\" class=\"dataframe\">\n",
       "  <thead>\n",
       "    <tr style=\"text-align: right;\">\n",
       "      <th></th>\n",
       "      <th>passenger_id</th>\n",
       "      <th>survived</th>\n",
       "      <th>pclass</th>\n",
       "      <th>sex</th>\n",
       "      <th>age</th>\n",
       "      <th>sibsp</th>\n",
       "      <th>parch</th>\n",
       "      <th>fare</th>\n",
       "      <th>embarked</th>\n",
       "      <th>alone</th>\n",
       "      <th>sex_male</th>\n",
       "      <th>embarked_Q</th>\n",
       "      <th>embarked_S</th>\n",
       "      <th>baseline</th>\n",
       "    </tr>\n",
       "  </thead>\n",
       "  <tbody>\n",
       "    <tr>\n",
       "      <th>0</th>\n",
       "      <td>0</td>\n",
       "      <td>0</td>\n",
       "      <td>3</td>\n",
       "      <td>male</td>\n",
       "      <td>22.0</td>\n",
       "      <td>1</td>\n",
       "      <td>0</td>\n",
       "      <td>7.2500</td>\n",
       "      <td>S</td>\n",
       "      <td>0</td>\n",
       "      <td>1</td>\n",
       "      <td>0</td>\n",
       "      <td>1</td>\n",
       "      <td>0</td>\n",
       "    </tr>\n",
       "    <tr>\n",
       "      <th>1</th>\n",
       "      <td>1</td>\n",
       "      <td>1</td>\n",
       "      <td>1</td>\n",
       "      <td>female</td>\n",
       "      <td>38.0</td>\n",
       "      <td>1</td>\n",
       "      <td>0</td>\n",
       "      <td>71.2833</td>\n",
       "      <td>C</td>\n",
       "      <td>0</td>\n",
       "      <td>0</td>\n",
       "      <td>0</td>\n",
       "      <td>0</td>\n",
       "      <td>0</td>\n",
       "    </tr>\n",
       "    <tr>\n",
       "      <th>2</th>\n",
       "      <td>2</td>\n",
       "      <td>1</td>\n",
       "      <td>3</td>\n",
       "      <td>female</td>\n",
       "      <td>26.0</td>\n",
       "      <td>0</td>\n",
       "      <td>0</td>\n",
       "      <td>7.9250</td>\n",
       "      <td>S</td>\n",
       "      <td>1</td>\n",
       "      <td>0</td>\n",
       "      <td>0</td>\n",
       "      <td>1</td>\n",
       "      <td>0</td>\n",
       "    </tr>\n",
       "    <tr>\n",
       "      <th>3</th>\n",
       "      <td>3</td>\n",
       "      <td>1</td>\n",
       "      <td>1</td>\n",
       "      <td>female</td>\n",
       "      <td>35.0</td>\n",
       "      <td>1</td>\n",
       "      <td>0</td>\n",
       "      <td>53.1000</td>\n",
       "      <td>S</td>\n",
       "      <td>0</td>\n",
       "      <td>0</td>\n",
       "      <td>0</td>\n",
       "      <td>1</td>\n",
       "      <td>0</td>\n",
       "    </tr>\n",
       "    <tr>\n",
       "      <th>4</th>\n",
       "      <td>4</td>\n",
       "      <td>0</td>\n",
       "      <td>3</td>\n",
       "      <td>male</td>\n",
       "      <td>35.0</td>\n",
       "      <td>0</td>\n",
       "      <td>0</td>\n",
       "      <td>8.0500</td>\n",
       "      <td>S</td>\n",
       "      <td>1</td>\n",
       "      <td>1</td>\n",
       "      <td>0</td>\n",
       "      <td>1</td>\n",
       "      <td>0</td>\n",
       "    </tr>\n",
       "  </tbody>\n",
       "</table>\n",
       "</div>"
      ],
      "text/plain": [
       "   passenger_id  survived  pclass     sex   age  sibsp  parch     fare  \\\n",
       "0             0         0       3    male  22.0      1      0   7.2500   \n",
       "1             1         1       1  female  38.0      1      0  71.2833   \n",
       "2             2         1       3  female  26.0      0      0   7.9250   \n",
       "3             3         1       1  female  35.0      1      0  53.1000   \n",
       "4             4         0       3    male  35.0      0      0   8.0500   \n",
       "\n",
       "  embarked  alone  sex_male  embarked_Q  embarked_S  baseline  \n",
       "0        S      0         1           0           1         0  \n",
       "1        C      0         0           0           0         0  \n",
       "2        S      1         0           0           1         0  \n",
       "3        S      0         0           0           1         0  \n",
       "4        S      1         1           0           1         0  "
      ]
     },
     "execution_count": 65,
     "metadata": {},
     "output_type": "execute_result"
    }
   ],
   "source": [
    "# get the data\n",
    "titanic = prepare.prep_titanic()\n",
    "\n",
    "# creat baseline colum\n",
    "titanic[\"baseline\"] = int(titanic.survived.mode())\n",
    "\n",
    "# fill all the na with the mean\n",
    "titanic[\"age\"] = titanic.age.fillna(titanic.age.mean())\n",
    "\n",
    "titanic.head()"
   ]
  },
  {
   "cell_type": "code",
   "execution_count": 66,
   "id": "f5435e3a",
   "metadata": {},
   "outputs": [
    {
     "data": {
      "text/plain": [
       "(534, 178, 179)"
      ]
     },
     "execution_count": 66,
     "metadata": {},
     "output_type": "execute_result"
    }
   ],
   "source": [
    "# split the data\n",
    "train, validate, test = prepare.split_data_(df=titanic, stratify_col=\"survived\", random_state=95)\n",
    "len(train), len(validate), len(test)"
   ]
  },
  {
   "cell_type": "markdown",
   "id": "83e1d9c8",
   "metadata": {},
   "source": [
    "1. Create a model that includes only age, fare, and pclass. Does this model perform better than your baseline?"
   ]
  },
  {
   "cell_type": "code",
   "execution_count": 67,
   "id": "aa6597c2",
   "metadata": {},
   "outputs": [
    {
     "data": {
      "text/plain": [
       "56.0"
      ]
     },
     "execution_count": 67,
     "metadata": {},
     "output_type": "execute_result"
    }
   ],
   "source": [
    "age_choices = train.age.value_counts().sort_index().index\n",
    "age_weights = train.age.value_counts(normalize=True).sort_index().values\n",
    "count_of_NaN = train.age.value_counts(dropna=False).head(1).values[0]\n",
    "\n",
    "np.random.choice(age_choices)\n"
   ]
  },
  {
   "cell_type": "code",
   "execution_count": 68,
   "id": "fa2683f8",
   "metadata": {},
   "outputs": [
    {
     "data": {
      "text/plain": [
       "0.6161048689138576"
      ]
     },
     "execution_count": 68,
     "metadata": {},
     "output_type": "execute_result"
    }
   ],
   "source": [
    "# let start by running out baseline\n",
    "baseline_acc_score = accuracy_score(train.survived, train.baseline)\n",
    "baseline_acc_score"
   ]
  },
  {
   "cell_type": "code",
   "execution_count": 69,
   "id": "e5d14208",
   "metadata": {},
   "outputs": [],
   "source": [
    "# separate features from target\n",
    "xTrain = train[[\"age\", \"fare\", \"pclass\"]]\n",
    "yTrain = train.survived\n",
    "\n",
    "# validate\n",
    "xVal = validate[[\"age\", \"fare\", \"pclass\"]]\n",
    "yVal= validate.survived"
   ]
  },
  {
   "cell_type": "code",
   "execution_count": 70,
   "id": "18e5ed11",
   "metadata": {},
   "outputs": [
    {
     "data": {
      "text/html": [
       "<style>#sk-container-id-1 {color: black;background-color: white;}#sk-container-id-1 pre{padding: 0;}#sk-container-id-1 div.sk-toggleable {background-color: white;}#sk-container-id-1 label.sk-toggleable__label {cursor: pointer;display: block;width: 100%;margin-bottom: 0;padding: 0.3em;box-sizing: border-box;text-align: center;}#sk-container-id-1 label.sk-toggleable__label-arrow:before {content: \"▸\";float: left;margin-right: 0.25em;color: #696969;}#sk-container-id-1 label.sk-toggleable__label-arrow:hover:before {color: black;}#sk-container-id-1 div.sk-estimator:hover label.sk-toggleable__label-arrow:before {color: black;}#sk-container-id-1 div.sk-toggleable__content {max-height: 0;max-width: 0;overflow: hidden;text-align: left;background-color: #f0f8ff;}#sk-container-id-1 div.sk-toggleable__content pre {margin: 0.2em;color: black;border-radius: 0.25em;background-color: #f0f8ff;}#sk-container-id-1 input.sk-toggleable__control:checked~div.sk-toggleable__content {max-height: 200px;max-width: 100%;overflow: auto;}#sk-container-id-1 input.sk-toggleable__control:checked~label.sk-toggleable__label-arrow:before {content: \"▾\";}#sk-container-id-1 div.sk-estimator input.sk-toggleable__control:checked~label.sk-toggleable__label {background-color: #d4ebff;}#sk-container-id-1 div.sk-label input.sk-toggleable__control:checked~label.sk-toggleable__label {background-color: #d4ebff;}#sk-container-id-1 input.sk-hidden--visually {border: 0;clip: rect(1px 1px 1px 1px);clip: rect(1px, 1px, 1px, 1px);height: 1px;margin: -1px;overflow: hidden;padding: 0;position: absolute;width: 1px;}#sk-container-id-1 div.sk-estimator {font-family: monospace;background-color: #f0f8ff;border: 1px dotted black;border-radius: 0.25em;box-sizing: border-box;margin-bottom: 0.5em;}#sk-container-id-1 div.sk-estimator:hover {background-color: #d4ebff;}#sk-container-id-1 div.sk-parallel-item::after {content: \"\";width: 100%;border-bottom: 1px solid gray;flex-grow: 1;}#sk-container-id-1 div.sk-label:hover label.sk-toggleable__label {background-color: #d4ebff;}#sk-container-id-1 div.sk-serial::before {content: \"\";position: absolute;border-left: 1px solid gray;box-sizing: border-box;top: 0;bottom: 0;left: 50%;z-index: 0;}#sk-container-id-1 div.sk-serial {display: flex;flex-direction: column;align-items: center;background-color: white;padding-right: 0.2em;padding-left: 0.2em;position: relative;}#sk-container-id-1 div.sk-item {position: relative;z-index: 1;}#sk-container-id-1 div.sk-parallel {display: flex;align-items: stretch;justify-content: center;background-color: white;position: relative;}#sk-container-id-1 div.sk-item::before, #sk-container-id-1 div.sk-parallel-item::before {content: \"\";position: absolute;border-left: 1px solid gray;box-sizing: border-box;top: 0;bottom: 0;left: 50%;z-index: -1;}#sk-container-id-1 div.sk-parallel-item {display: flex;flex-direction: column;z-index: 1;position: relative;background-color: white;}#sk-container-id-1 div.sk-parallel-item:first-child::after {align-self: flex-end;width: 50%;}#sk-container-id-1 div.sk-parallel-item:last-child::after {align-self: flex-start;width: 50%;}#sk-container-id-1 div.sk-parallel-item:only-child::after {width: 0;}#sk-container-id-1 div.sk-dashed-wrapped {border: 1px dashed gray;margin: 0 0.4em 0.5em 0.4em;box-sizing: border-box;padding-bottom: 0.4em;background-color: white;}#sk-container-id-1 div.sk-label label {font-family: monospace;font-weight: bold;display: inline-block;line-height: 1.2em;}#sk-container-id-1 div.sk-label-container {text-align: center;}#sk-container-id-1 div.sk-container {/* jupyter's `normalize.less` sets `[hidden] { display: none; }` but bootstrap.min.css set `[hidden] { display: none !important; }` so we also need the `!important` here to be able to override the default hidden behavior on the sphinx rendered scikit-learn.org. See: https://github.com/scikit-learn/scikit-learn/issues/21755 */display: inline-block !important;position: relative;}#sk-container-id-1 div.sk-text-repr-fallback {display: none;}</style><div id=\"sk-container-id-1\" class=\"sk-top-container\"><div class=\"sk-text-repr-fallback\"><pre>LogisticRegression(random_state=95)</pre><b>In a Jupyter environment, please rerun this cell to show the HTML representation or trust the notebook. <br />On GitHub, the HTML representation is unable to render, please try loading this page with nbviewer.org.</b></div><div class=\"sk-container\" hidden><div class=\"sk-item\"><div class=\"sk-estimator sk-toggleable\"><input class=\"sk-toggleable__control sk-hidden--visually\" id=\"sk-estimator-id-1\" type=\"checkbox\" checked><label for=\"sk-estimator-id-1\" class=\"sk-toggleable__label sk-toggleable__label-arrow\">LogisticRegression</label><div class=\"sk-toggleable__content\"><pre>LogisticRegression(random_state=95)</pre></div></div></div></div></div>"
      ],
      "text/plain": [
       "LogisticRegression(random_state=95)"
      ]
     },
     "execution_count": 70,
     "metadata": {},
     "output_type": "execute_result"
    }
   ],
   "source": [
    "# Create modle\n",
    "logReg = LogisticRegression(C= 1.0, random_state=95)\n",
    "\n",
    "# fit model\n",
    "logReg.fit(xTrain, yTrain)"
   ]
  },
  {
   "cell_type": "code",
   "execution_count": 87,
   "id": "edb8e10a",
   "metadata": {},
   "outputs": [
    {
     "name": "stdout",
     "output_type": "stream",
     "text": [
      "train acc score: 0.6947565543071161\n"
     ]
    },
    {
     "data": {
      "text/plain": [
       "array([[287,  42],\n",
       "       [121,  84]])"
      ]
     },
     "execution_count": 87,
     "metadata": {},
     "output_type": "execute_result"
    }
   ],
   "source": [
    "# make prediction\n",
    "y_pred = logReg.predict(xTrain)\n",
    "\n",
    "# check prediction probability\n",
    "y_pred_proba = logReg.predict_proba(xTrain)\n",
    "\n",
    "# get accuracy score\n",
    "print(\"train acc score:\",logReg.score(xTrain, yTrain))\n",
    "confusion_matrix(yTrain, y_pred)"
   ]
  },
  {
   "cell_type": "code",
   "execution_count": 86,
   "id": "14cbeb65",
   "metadata": {},
   "outputs": [
    {
     "name": "stdout",
     "output_type": "stream",
     "text": [
      "validation acc score: 0.7359550561797753\n"
     ]
    }
   ],
   "source": [
    "# validate\n",
    "\n",
    "print(\"validation acc score:\",logReg.score(xVal, yVal))"
   ]
  },
  {
   "cell_type": "markdown",
   "id": "863e4e22",
   "metadata": {},
   "source": [
    "- **My test performs better than my baseline**"
   ]
  },
  {
   "cell_type": "markdown",
   "id": "ad343907",
   "metadata": {},
   "source": [
    "2. Include sex in your model as well. Note that you'll need to encode or create a dummy variable of this feature before including it in a model."
   ]
  },
  {
   "cell_type": "code",
   "execution_count": 90,
   "id": "f6e0d030",
   "metadata": {},
   "outputs": [],
   "source": [
    "# separate features from target\n",
    "xTrain = train[[\"age\", \"fare\", \"pclass\", \"sex_male\"]]\n",
    "yTrain = train.survived\n",
    "\n",
    "# validate\n",
    "xVal = validate[[\"age\", \"fare\", \"pclass\", \"sex_male\"]]\n",
    "yVal= validate.survived"
   ]
  },
  {
   "cell_type": "code",
   "execution_count": 137,
   "id": "5394968a",
   "metadata": {},
   "outputs": [],
   "source": [
    "def logistic_reg(xTrain, yTrain,xVal, yVal, c):\n",
    "    # Create modle\n",
    "    logReg = LogisticRegression(C= c, random_state=95)\n",
    "\n",
    "    # fit model\n",
    "    logReg.fit(xTrain, yTrain)\n",
    "    \n",
    "    # make prediction\n",
    "    y_pred = logReg.predict(xTrain)\n",
    "\n",
    "    # check prediction probability\n",
    "    y_pred_proba = logReg.predict_proba(xTrain)\n",
    "\n",
    "    # get accuracy score\n",
    "    train_score = logReg.score(xTrain, yTrain)\n",
    "        \n",
    "    # validate\n",
    "    validation_score = logReg.score(xVal, yVal)\n",
    "    \n",
    "    return train_score, validation_score"
   ]
  },
  {
   "cell_type": "code",
   "execution_count": 138,
   "id": "ab53f951",
   "metadata": {},
   "outputs": [
    {
     "data": {
      "text/plain": [
       "(0.797752808988764, 0.7696629213483146)"
      ]
     },
     "execution_count": 138,
     "metadata": {},
     "output_type": "execute_result"
    }
   ],
   "source": [
    "train_score, validation_score = logistic_reg(xTrain, yTrain,xVal, yVal, 1)\n",
    "\n",
    "train_score, validation_score"
   ]
  },
  {
   "cell_type": "markdown",
   "id": "74121aa4",
   "metadata": {},
   "source": [
    "- **This model also does better thanbase line and even better than the previous model**"
   ]
  },
  {
   "cell_type": "markdown",
   "id": "20b83dee",
   "metadata": {},
   "source": [
    "3. Try out other combinations of features and models."
   ]
  },
  {
   "cell_type": "code",
   "execution_count": 139,
   "id": "e1910872",
   "metadata": {},
   "outputs": [],
   "source": [
    "# separate features from target\n",
    "xTrain = train[[\"age\", \"fare\", \"pclass\", \"sex_male\", \"embarked_Q\", \"embarked_S\", \"alone\"]]\n",
    "yTrain = train.survived\n",
    "\n",
    "# validate\n",
    "xVal = validate[[\"age\", \"fare\", \"pclass\", \"sex_male\", \"embarked_Q\", \"embarked_S\", \"alone\"]]\n",
    "yVal= validate.survived"
   ]
  },
  {
   "cell_type": "code",
   "execution_count": 140,
   "id": "e94cd635",
   "metadata": {},
   "outputs": [
    {
     "name": "stderr",
     "output_type": "stream",
     "text": [
      "/opt/homebrew/anaconda3/lib/python3.10/site-packages/sklearn/linear_model/_logistic.py:458: ConvergenceWarning: lbfgs failed to converge (status=1):\n",
      "STOP: TOTAL NO. of ITERATIONS REACHED LIMIT.\n",
      "\n",
      "Increase the number of iterations (max_iter) or scale the data as shown in:\n",
      "    https://scikit-learn.org/stable/modules/preprocessing.html\n",
      "Please also refer to the documentation for alternative solver options:\n",
      "    https://scikit-learn.org/stable/modules/linear_model.html#logistic-regression\n",
      "  n_iter_i = _check_optimize_result(\n"
     ]
    },
    {
     "data": {
      "text/plain": [
       "(0.8033707865168539, 0.7921348314606742)"
      ]
     },
     "execution_count": 140,
     "metadata": {},
     "output_type": "execute_result"
    }
   ],
   "source": [
    "train_score, validation_score = logistic_reg(xTrain, yTrain,xVal, yVal, 1)\n",
    "\n",
    "train_score, validation_score"
   ]
  },
  {
   "cell_type": "markdown",
   "id": "745f5cf8",
   "metadata": {},
   "source": [
    "4. Use you best 3 models to predict and evaluate on your validate sample."
   ]
  },
  {
   "cell_type": "code",
   "execution_count": 141,
   "id": "f4dc1888",
   "metadata": {},
   "outputs": [],
   "source": [
    "# separate features from target\n",
    "xTrain = train[[\"fare\", \"pclass\", \"sex_male\", \"embarked_Q\", \"embarked_S\"]]\n",
    "yTrain = train.survived\n",
    "\n",
    "# validate\n",
    "xVal = validate[[\"fare\", \"pclass\", \"sex_male\", \"embarked_Q\", \"embarked_S\"]]\n",
    "yVal= validate.survived"
   ]
  },
  {
   "cell_type": "code",
   "execution_count": 184,
   "id": "66d6b69f",
   "metadata": {},
   "outputs": [
    {
     "data": {
      "text/html": [
       "<div>\n",
       "<style scoped>\n",
       "    .dataframe tbody tr th:only-of-type {\n",
       "        vertical-align: middle;\n",
       "    }\n",
       "\n",
       "    .dataframe tbody tr th {\n",
       "        vertical-align: top;\n",
       "    }\n",
       "\n",
       "    .dataframe thead th {\n",
       "        text-align: right;\n",
       "    }\n",
       "</style>\n",
       "<table border=\"1\" class=\"dataframe\">\n",
       "  <thead>\n",
       "    <tr style=\"text-align: right;\">\n",
       "      <th></th>\n",
       "      <th>C</th>\n",
       "      <th>train_score</th>\n",
       "      <th>validate_score</th>\n",
       "    </tr>\n",
       "  </thead>\n",
       "  <tbody>\n",
       "    <tr>\n",
       "      <th>0</th>\n",
       "      <td>0.0001</td>\n",
       "      <td>0.651685</td>\n",
       "      <td>0.702247</td>\n",
       "    </tr>\n",
       "    <tr>\n",
       "      <th>1</th>\n",
       "      <td>0.1001</td>\n",
       "      <td>0.795880</td>\n",
       "      <td>0.764045</td>\n",
       "    </tr>\n",
       "    <tr>\n",
       "      <th>2</th>\n",
       "      <td>0.2001</td>\n",
       "      <td>0.797753</td>\n",
       "      <td>0.775281</td>\n",
       "    </tr>\n",
       "    <tr>\n",
       "      <th>3</th>\n",
       "      <td>0.3001</td>\n",
       "      <td>0.797753</td>\n",
       "      <td>0.769663</td>\n",
       "    </tr>\n",
       "    <tr>\n",
       "      <th>4</th>\n",
       "      <td>0.4001</td>\n",
       "      <td>0.797753</td>\n",
       "      <td>0.769663</td>\n",
       "    </tr>\n",
       "  </tbody>\n",
       "</table>\n",
       "</div>"
      ],
      "text/plain": [
       "        C  train_score  validate_score\n",
       "0  0.0001     0.651685        0.702247\n",
       "1  0.1001     0.795880        0.764045\n",
       "2  0.2001     0.797753        0.775281\n",
       "3  0.3001     0.797753        0.769663\n",
       "4  0.4001     0.797753        0.769663"
      ]
     },
     "execution_count": 184,
     "metadata": {},
     "output_type": "execute_result"
    }
   ],
   "source": [
    "result = []\n",
    "for i in np.arange(0.0001,1,0.1):\n",
    "    train_score, validation_score = logistic_reg(xTrain, yTrain,xVal, yVal, i)\n",
    "    \n",
    "    output = {\n",
    "        \"C\": i,\n",
    "        \"train_score\": train_score,\n",
    "        \"validate_score\": validation_score\n",
    "    }\n",
    "    \n",
    "    result.append(output)\n",
    "    \n",
    "df = pd.DataFrame(result)\n",
    "df.head()"
   ]
  },
  {
   "cell_type": "code",
   "execution_count": 218,
   "id": "2ff80ef6",
   "metadata": {},
   "outputs": [
    {
     "data": {
      "image/png": "[encoded data removed]",
      "text/plain": [
       "<Figure size 640x480 with 1 Axes>"
      ]
     },
     "metadata": {},
     "output_type": "display_data"
    }
   ],
   "source": [
    "df.set_index(\"C\").plot()\n",
    "plt.ylabel('accuracy score')\n",
    "plt.xticks(np.arange(0.0001,1,0.12))\n",
    "plt.grid()\n",
    "plt.show()"
   ]
  },
  {
   "cell_type": "code",
   "execution_count": 231,
   "id": "bc608e8d",
   "metadata": {},
   "outputs": [
    {
     "data": {
      "text/html": [
       "<div>\n",
       "<style scoped>\n",
       "    .dataframe tbody tr th:only-of-type {\n",
       "        vertical-align: middle;\n",
       "    }\n",
       "\n",
       "    .dataframe tbody tr th {\n",
       "        vertical-align: top;\n",
       "    }\n",
       "\n",
       "    .dataframe thead th {\n",
       "        text-align: right;\n",
       "    }\n",
       "</style>\n",
       "<table border=\"1\" class=\"dataframe\">\n",
       "  <thead>\n",
       "    <tr style=\"text-align: right;\">\n",
       "      <th></th>\n",
       "      <th>C</th>\n",
       "      <th>train_score</th>\n",
       "      <th>validate_score</th>\n",
       "    </tr>\n",
       "  </thead>\n",
       "  <tbody>\n",
       "    <tr>\n",
       "      <th>2</th>\n",
       "      <td>0.2001</td>\n",
       "      <td>0.797753</td>\n",
       "      <td>0.775281</td>\n",
       "    </tr>\n",
       "  </tbody>\n",
       "</table>\n",
       "</div>"
      ],
      "text/plain": [
       "        C  train_score  validate_score\n",
       "2  0.2001     0.797753        0.775281"
      ]
     },
     "execution_count": 231,
     "metadata": {},
     "output_type": "execute_result"
    }
   ],
   "source": [
    "# best performing model\n",
    "df[abs(df.train_score - df.validate_score) == abs(df.train_score - df.validate_score).min()]"
   ]
  },
  {
   "cell_type": "markdown",
   "id": "3369d807",
   "metadata": {},
   "source": [
    "5. Choose you best model from the validation performation, and evaluate it on the test dataset. How do the performance metrics compare to validate? to train?"
   ]
  },
  {
   "cell_type": "code",
   "execution_count": 234,
   "id": "c0adbbed",
   "metadata": {},
   "outputs": [],
   "source": [
    "# validate\n",
    "xVal = validate[[\"age\", \"fare\", \"pclass\", \"sex_male\", \"embarked_Q\", \"embarked_S\", \"alone\"]]\n",
    "yVal= validate.survived\n",
    "\n",
    "# validate\n",
    "xTest = test[[\"age\", \"fare\", \"pclass\", \"sex_male\", \"embarked_Q\", \"embarked_S\", \"alone\"]]\n",
    "yTest= test.survived"
   ]
  },
  {
   "cell_type": "code",
   "execution_count": 235,
   "id": "3054a87e",
   "metadata": {},
   "outputs": [
    {
     "name": "stderr",
     "output_type": "stream",
     "text": [
      "/opt/homebrew/anaconda3/lib/python3.10/site-packages/sklearn/linear_model/_logistic.py:458: ConvergenceWarning: lbfgs failed to converge (status=1):\n",
      "STOP: TOTAL NO. of ITERATIONS REACHED LIMIT.\n",
      "\n",
      "Increase the number of iterations (max_iter) or scale the data as shown in:\n",
      "    https://scikit-learn.org/stable/modules/preprocessing.html\n",
      "Please also refer to the documentation for alternative solver options:\n",
      "    https://scikit-learn.org/stable/modules/linear_model.html#logistic-regression\n",
      "  n_iter_i = _check_optimize_result(\n"
     ]
    },
    {
     "data": {
      "text/plain": [
       "(0.8089887640449438, 0.7486033519553073)"
      ]
     },
     "execution_count": 235,
     "metadata": {},
     "output_type": "execute_result"
    }
   ],
   "source": [
    "validation_score, test_score = logistic_reg(xVal, yVal, xTest, yTest, 0.2001)\n",
    "\n",
    "validation_score, test_score"
   ]
  },
  {
   "cell_type": "markdown",
   "id": "6eb8a56f",
   "metadata": {},
   "source": [
    "**Faily ok but I think it's over fit**"
   ]
  }
 ],
 "metadata": {
  "kernelspec": {
   "display_name": "Python 3 (ipykernel)",
   "language": "python",
   "name": "python3"
  },
  "language_info": {
   "codemirror_mode": {
    "name": "ipython",
    "version": 3
   },
   "file_extension": ".py",
   "mimetype": "text/x-python",
   "name": "python",
   "nbconvert_exporter": "python",
   "pygments_lexer": "ipython3",
   "version": "3.10.9"
  }
 },
 "nbformat": 4,
 "nbformat_minor": 5
}
