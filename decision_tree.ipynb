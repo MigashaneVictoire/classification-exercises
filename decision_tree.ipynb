{
 "cells": [
  {
   "cell_type": "markdown",
   "id": "b1d2a5d1",
   "metadata": {},
   "source": [
    "# Decision tree exercise"
   ]
  },
  {
   "cell_type": "code",
   "execution_count": 145,
   "id": "2c435ed8",
   "metadata": {},
   "outputs": [],
   "source": [
    "# allows to import files from other directories\n",
    "import sys\n",
    "sys.path.append(\"/Users/migashane/CodeUp/Data_Science/classification-exercises/util_\")\n",
    "\n",
    "import pandas as pd\n",
    "import numpy as np\n",
    "import matplotlib.pyplot as plt\n",
    "\n",
    "from sklearn.metrics import accuracy_score\n",
    "from sklearn.metrics import classification_report\n",
    "from sklearn.metrics import confusion_matrix\n",
    "from sklearn.metrics import ConfusionMatrixDisplay\n",
    "from sklearn.tree import DecisionTreeClassifier\n",
    "from sklearn.tree import plot_tree\n",
    "\n",
    "import prepare_\n",
    "import explore"
   ]
  },
  {
   "cell_type": "code",
   "execution_count": 106,
   "id": "edc8974f",
   "metadata": {},
   "outputs": [],
   "source": [
    "titanic = prepare.prep_titanic()"
   ]
  },
  {
   "cell_type": "markdown",
   "id": "9746653c",
   "metadata": {},
   "source": [
    "**make baseline**"
   ]
  },
  {
   "cell_type": "code",
   "execution_count": 107,
   "id": "b9e8a429",
   "metadata": {},
   "outputs": [
    {
     "data": {
      "text/html": [
       "<div>\n",
       "<style scoped>\n",
       "    .dataframe tbody tr th:only-of-type {\n",
       "        vertical-align: middle;\n",
       "    }\n",
       "\n",
       "    .dataframe tbody tr th {\n",
       "        vertical-align: top;\n",
       "    }\n",
       "\n",
       "    .dataframe thead th {\n",
       "        text-align: right;\n",
       "    }\n",
       "</style>\n",
       "<table border=\"1\" class=\"dataframe\">\n",
       "  <thead>\n",
       "    <tr style=\"text-align: right;\">\n",
       "      <th></th>\n",
       "      <th>passenger_id</th>\n",
       "      <th>survived</th>\n",
       "      <th>pclass</th>\n",
       "      <th>sex</th>\n",
       "      <th>age</th>\n",
       "      <th>sibsp</th>\n",
       "      <th>parch</th>\n",
       "      <th>fare</th>\n",
       "      <th>embarked</th>\n",
       "      <th>alone</th>\n",
       "      <th>sex_male</th>\n",
       "      <th>embarked_Q</th>\n",
       "      <th>embarked_S</th>\n",
       "      <th>baseline</th>\n",
       "    </tr>\n",
       "  </thead>\n",
       "  <tbody>\n",
       "    <tr>\n",
       "      <th>0</th>\n",
       "      <td>0</td>\n",
       "      <td>0</td>\n",
       "      <td>3</td>\n",
       "      <td>male</td>\n",
       "      <td>22.0</td>\n",
       "      <td>1</td>\n",
       "      <td>0</td>\n",
       "      <td>7.2500</td>\n",
       "      <td>S</td>\n",
       "      <td>0</td>\n",
       "      <td>1</td>\n",
       "      <td>0</td>\n",
       "      <td>1</td>\n",
       "      <td>0</td>\n",
       "    </tr>\n",
       "    <tr>\n",
       "      <th>1</th>\n",
       "      <td>1</td>\n",
       "      <td>1</td>\n",
       "      <td>1</td>\n",
       "      <td>female</td>\n",
       "      <td>38.0</td>\n",
       "      <td>1</td>\n",
       "      <td>0</td>\n",
       "      <td>71.2833</td>\n",
       "      <td>C</td>\n",
       "      <td>0</td>\n",
       "      <td>0</td>\n",
       "      <td>0</td>\n",
       "      <td>0</td>\n",
       "      <td>0</td>\n",
       "    </tr>\n",
       "    <tr>\n",
       "      <th>2</th>\n",
       "      <td>2</td>\n",
       "      <td>1</td>\n",
       "      <td>3</td>\n",
       "      <td>female</td>\n",
       "      <td>26.0</td>\n",
       "      <td>0</td>\n",
       "      <td>0</td>\n",
       "      <td>7.9250</td>\n",
       "      <td>S</td>\n",
       "      <td>1</td>\n",
       "      <td>0</td>\n",
       "      <td>0</td>\n",
       "      <td>1</td>\n",
       "      <td>0</td>\n",
       "    </tr>\n",
       "  </tbody>\n",
       "</table>\n",
       "</div>"
      ],
      "text/plain": [
       "   passenger_id  survived  pclass     sex   age  sibsp  parch     fare  \\\n",
       "0             0         0       3    male  22.0      1      0   7.2500   \n",
       "1             1         1       1  female  38.0      1      0  71.2833   \n",
       "2             2         1       3  female  26.0      0      0   7.9250   \n",
       "\n",
       "  embarked  alone  sex_male  embarked_Q  embarked_S  baseline  \n",
       "0        S      0         1           0           1         0  \n",
       "1        C      0         0           0           0         0  \n",
       "2        S      1         0           0           1         0  "
      ]
     },
     "execution_count": 107,
     "metadata": {},
     "output_type": "execute_result"
    }
   ],
   "source": [
    "# create base line\n",
    "titanic[\"baseline\"] =[int(titanic.survived.mode()) for i in range(len(titanic))]\n",
    "\n",
    "titanic.head(3)"
   ]
  },
  {
   "cell_type": "markdown",
   "id": "5f88fb57",
   "metadata": {},
   "source": [
    "**split**"
   ]
  },
  {
   "cell_type": "code",
   "execution_count": 108,
   "id": "c2cf4113",
   "metadata": {},
   "outputs": [
    {
     "data": {
      "text/html": [
       "<div>\n",
       "<style scoped>\n",
       "    .dataframe tbody tr th:only-of-type {\n",
       "        vertical-align: middle;\n",
       "    }\n",
       "\n",
       "    .dataframe tbody tr th {\n",
       "        vertical-align: top;\n",
       "    }\n",
       "\n",
       "    .dataframe thead th {\n",
       "        text-align: right;\n",
       "    }\n",
       "</style>\n",
       "<table border=\"1\" class=\"dataframe\">\n",
       "  <thead>\n",
       "    <tr style=\"text-align: right;\">\n",
       "      <th></th>\n",
       "      <th>passenger_id</th>\n",
       "      <th>survived</th>\n",
       "      <th>pclass</th>\n",
       "      <th>sex</th>\n",
       "      <th>age</th>\n",
       "      <th>sibsp</th>\n",
       "      <th>parch</th>\n",
       "      <th>fare</th>\n",
       "      <th>embarked</th>\n",
       "      <th>alone</th>\n",
       "      <th>sex_male</th>\n",
       "      <th>embarked_Q</th>\n",
       "      <th>embarked_S</th>\n",
       "      <th>baseline</th>\n",
       "    </tr>\n",
       "  </thead>\n",
       "  <tbody>\n",
       "    <tr>\n",
       "      <th>84</th>\n",
       "      <td>84</td>\n",
       "      <td>1</td>\n",
       "      <td>2</td>\n",
       "      <td>female</td>\n",
       "      <td>17.0</td>\n",
       "      <td>0</td>\n",
       "      <td>0</td>\n",
       "      <td>10.5000</td>\n",
       "      <td>S</td>\n",
       "      <td>1</td>\n",
       "      <td>0</td>\n",
       "      <td>0</td>\n",
       "      <td>1</td>\n",
       "      <td>0</td>\n",
       "    </tr>\n",
       "    <tr>\n",
       "      <th>138</th>\n",
       "      <td>138</td>\n",
       "      <td>0</td>\n",
       "      <td>3</td>\n",
       "      <td>male</td>\n",
       "      <td>16.0</td>\n",
       "      <td>0</td>\n",
       "      <td>0</td>\n",
       "      <td>9.2167</td>\n",
       "      <td>S</td>\n",
       "      <td>1</td>\n",
       "      <td>1</td>\n",
       "      <td>0</td>\n",
       "      <td>1</td>\n",
       "      <td>0</td>\n",
       "    </tr>\n",
       "    <tr>\n",
       "      <th>369</th>\n",
       "      <td>369</td>\n",
       "      <td>1</td>\n",
       "      <td>1</td>\n",
       "      <td>female</td>\n",
       "      <td>24.0</td>\n",
       "      <td>0</td>\n",
       "      <td>0</td>\n",
       "      <td>69.3000</td>\n",
       "      <td>C</td>\n",
       "      <td>1</td>\n",
       "      <td>0</td>\n",
       "      <td>0</td>\n",
       "      <td>0</td>\n",
       "      <td>0</td>\n",
       "    </tr>\n",
       "    <tr>\n",
       "      <th>577</th>\n",
       "      <td>577</td>\n",
       "      <td>1</td>\n",
       "      <td>1</td>\n",
       "      <td>female</td>\n",
       "      <td>39.0</td>\n",
       "      <td>1</td>\n",
       "      <td>0</td>\n",
       "      <td>55.9000</td>\n",
       "      <td>S</td>\n",
       "      <td>0</td>\n",
       "      <td>0</td>\n",
       "      <td>0</td>\n",
       "      <td>1</td>\n",
       "      <td>0</td>\n",
       "    </tr>\n",
       "    <tr>\n",
       "      <th>212</th>\n",
       "      <td>212</td>\n",
       "      <td>0</td>\n",
       "      <td>3</td>\n",
       "      <td>male</td>\n",
       "      <td>22.0</td>\n",
       "      <td>0</td>\n",
       "      <td>0</td>\n",
       "      <td>7.2500</td>\n",
       "      <td>S</td>\n",
       "      <td>1</td>\n",
       "      <td>1</td>\n",
       "      <td>0</td>\n",
       "      <td>1</td>\n",
       "      <td>0</td>\n",
       "    </tr>\n",
       "  </tbody>\n",
       "</table>\n",
       "</div>"
      ],
      "text/plain": [
       "     passenger_id  survived  pclass     sex   age  sibsp  parch     fare  \\\n",
       "84             84         1       2  female  17.0      0      0  10.5000   \n",
       "138           138         0       3    male  16.0      0      0   9.2167   \n",
       "369           369         1       1  female  24.0      0      0  69.3000   \n",
       "577           577         1       1  female  39.0      1      0  55.9000   \n",
       "212           212         0       3    male  22.0      0      0   7.2500   \n",
       "\n",
       "    embarked  alone  sex_male  embarked_Q  embarked_S  baseline  \n",
       "84         S      1         0           0           1         0  \n",
       "138        S      1         1           0           1         0  \n",
       "369        C      1         0           0           0         0  \n",
       "577        S      0         0           0           1         0  \n",
       "212        S      1         1           0           1         0  "
      ]
     },
     "execution_count": 108,
     "metadata": {},
     "output_type": "execute_result"
    }
   ],
   "source": [
    "train, validate, test = prepare_.split_data_(df=titanic, stratify_col=\"survived\", random_state=95)\n",
    "train.head()"
   ]
  },
  {
   "cell_type": "markdown",
   "id": "fe966d00",
   "metadata": {},
   "source": [
    "1. What is your baseline prediction? What is your baseline accuracy? remember: your baseline prediction for a classification problem is predicting the most prevelant class in the training dataset (the mode). When you make those predictions, what is your accuracy? This is your baseline accuracy."
   ]
  },
  {
   "cell_type": "code",
   "execution_count": 109,
   "id": "dee41f22",
   "metadata": {},
   "outputs": [
    {
     "data": {
      "text/plain": [
       "0.6161048689138576"
      ]
     },
     "execution_count": 109,
     "metadata": {},
     "output_type": "execute_result"
    }
   ],
   "source": [
    "# baseline accurecy\n",
    "baseline_acc_score = accuracy_score(train.survived, train.baseline)\n",
    "baseline_acc_score"
   ]
  },
  {
   "cell_type": "markdown",
   "id": "843f7235",
   "metadata": {},
   "source": [
    "2. Fit the decision tree classifier to your training sample and transform (i.e. make predictions on the training sample)"
   ]
  },
  {
   "cell_type": "markdown",
   "id": "bb1f57d0",
   "metadata": {},
   "source": [
    "**separet feature from target**"
   ]
  },
  {
   "cell_type": "code",
   "execution_count": 110,
   "id": "7f37aa20",
   "metadata": {},
   "outputs": [],
   "source": [
    "# train features and target\n",
    "xtrain = train.drop(columns=[\"sex\",\"age\", \"embarked\", \"passenger_id\", \"baseline\", \"survived\"])\n",
    "ytrain = train.survived\n",
    "\n",
    "# validate features and target\n",
    "xval = validate.drop(columns=[\"sex\",\"age\", \"embarked\", \"passenger_id\", \"baseline\", \"survived\"])\n",
    "yval = validate.survived\n",
    "\n",
    "# test features and target\n",
    "xtest = test.drop(columns=[\"sex\",\"age\", \"embarked\", \"passenger_id\", \"baseline\", \"survived\"])\n",
    "ytest = test.survived\n"
   ]
  },
  {
   "cell_type": "markdown",
   "id": "59579023",
   "metadata": {},
   "source": [
    "**creat tree object**"
   ]
  },
  {
   "cell_type": "code",
   "execution_count": 111,
   "id": "94dd0091",
   "metadata": {},
   "outputs": [
    {
     "data": {
      "text/html": [
       "<style>#sk-container-id-10 {color: black;background-color: white;}#sk-container-id-10 pre{padding: 0;}#sk-container-id-10 div.sk-toggleable {background-color: white;}#sk-container-id-10 label.sk-toggleable__label {cursor: pointer;display: block;width: 100%;margin-bottom: 0;padding: 0.3em;box-sizing: border-box;text-align: center;}#sk-container-id-10 label.sk-toggleable__label-arrow:before {content: \"▸\";float: left;margin-right: 0.25em;color: #696969;}#sk-container-id-10 label.sk-toggleable__label-arrow:hover:before {color: black;}#sk-container-id-10 div.sk-estimator:hover label.sk-toggleable__label-arrow:before {color: black;}#sk-container-id-10 div.sk-toggleable__content {max-height: 0;max-width: 0;overflow: hidden;text-align: left;background-color: #f0f8ff;}#sk-container-id-10 div.sk-toggleable__content pre {margin: 0.2em;color: black;border-radius: 0.25em;background-color: #f0f8ff;}#sk-container-id-10 input.sk-toggleable__control:checked~div.sk-toggleable__content {max-height: 200px;max-width: 100%;overflow: auto;}#sk-container-id-10 input.sk-toggleable__control:checked~label.sk-toggleable__label-arrow:before {content: \"▾\";}#sk-container-id-10 div.sk-estimator input.sk-toggleable__control:checked~label.sk-toggleable__label {background-color: #d4ebff;}#sk-container-id-10 div.sk-label input.sk-toggleable__control:checked~label.sk-toggleable__label {background-color: #d4ebff;}#sk-container-id-10 input.sk-hidden--visually {border: 0;clip: rect(1px 1px 1px 1px);clip: rect(1px, 1px, 1px, 1px);height: 1px;margin: -1px;overflow: hidden;padding: 0;position: absolute;width: 1px;}#sk-container-id-10 div.sk-estimator {font-family: monospace;background-color: #f0f8ff;border: 1px dotted black;border-radius: 0.25em;box-sizing: border-box;margin-bottom: 0.5em;}#sk-container-id-10 div.sk-estimator:hover {background-color: #d4ebff;}#sk-container-id-10 div.sk-parallel-item::after {content: \"\";width: 100%;border-bottom: 1px solid gray;flex-grow: 1;}#sk-container-id-10 div.sk-label:hover label.sk-toggleable__label {background-color: #d4ebff;}#sk-container-id-10 div.sk-serial::before {content: \"\";position: absolute;border-left: 1px solid gray;box-sizing: border-box;top: 0;bottom: 0;left: 50%;z-index: 0;}#sk-container-id-10 div.sk-serial {display: flex;flex-direction: column;align-items: center;background-color: white;padding-right: 0.2em;padding-left: 0.2em;position: relative;}#sk-container-id-10 div.sk-item {position: relative;z-index: 1;}#sk-container-id-10 div.sk-parallel {display: flex;align-items: stretch;justify-content: center;background-color: white;position: relative;}#sk-container-id-10 div.sk-item::before, #sk-container-id-10 div.sk-parallel-item::before {content: \"\";position: absolute;border-left: 1px solid gray;box-sizing: border-box;top: 0;bottom: 0;left: 50%;z-index: -1;}#sk-container-id-10 div.sk-parallel-item {display: flex;flex-direction: column;z-index: 1;position: relative;background-color: white;}#sk-container-id-10 div.sk-parallel-item:first-child::after {align-self: flex-end;width: 50%;}#sk-container-id-10 div.sk-parallel-item:last-child::after {align-self: flex-start;width: 50%;}#sk-container-id-10 div.sk-parallel-item:only-child::after {width: 0;}#sk-container-id-10 div.sk-dashed-wrapped {border: 1px dashed gray;margin: 0 0.4em 0.5em 0.4em;box-sizing: border-box;padding-bottom: 0.4em;background-color: white;}#sk-container-id-10 div.sk-label label {font-family: monospace;font-weight: bold;display: inline-block;line-height: 1.2em;}#sk-container-id-10 div.sk-label-container {text-align: center;}#sk-container-id-10 div.sk-container {/* jupyter's `normalize.less` sets `[hidden] { display: none; }` but bootstrap.min.css set `[hidden] { display: none !important; }` so we also need the `!important` here to be able to override the default hidden behavior on the sphinx rendered scikit-learn.org. See: https://github.com/scikit-learn/scikit-learn/issues/21755 */display: inline-block !important;position: relative;}#sk-container-id-10 div.sk-text-repr-fallback {display: none;}</style><div id=\"sk-container-id-10\" class=\"sk-top-container\"><div class=\"sk-text-repr-fallback\"><pre>DecisionTreeClassifier(max_depth=2, random_state=95)</pre><b>In a Jupyter environment, please rerun this cell to show the HTML representation or trust the notebook. <br />On GitHub, the HTML representation is unable to render, please try loading this page with nbviewer.org.</b></div><div class=\"sk-container\" hidden><div class=\"sk-item\"><div class=\"sk-estimator sk-toggleable\"><input class=\"sk-toggleable__control sk-hidden--visually\" id=\"sk-estimator-id-10\" type=\"checkbox\" checked><label for=\"sk-estimator-id-10\" class=\"sk-toggleable__label sk-toggleable__label-arrow\">DecisionTreeClassifier</label><div class=\"sk-toggleable__content\"><pre>DecisionTreeClassifier(max_depth=2, random_state=95)</pre></div></div></div></div></div>"
      ],
      "text/plain": [
       "DecisionTreeClassifier(max_depth=2, random_state=95)"
      ]
     },
     "execution_count": 111,
     "metadata": {},
     "output_type": "execute_result"
    }
   ],
   "source": [
    "# for classification you can change the algorithm to gini or entropy (information gain).  \n",
    "# gini is default\n",
    "\n",
    "treeClf = DecisionTreeClassifier(max_depth= 2, random_state=95)\n",
    "treeClf\n"
   ]
  },
  {
   "cell_type": "markdown",
   "id": "1bdb1cbd",
   "metadata": {},
   "source": [
    "**Fit model**"
   ]
  },
  {
   "cell_type": "code",
   "execution_count": 112,
   "id": "fd502c62",
   "metadata": {},
   "outputs": [
    {
     "data": {
      "text/html": [
       "<style>#sk-container-id-11 {color: black;background-color: white;}#sk-container-id-11 pre{padding: 0;}#sk-container-id-11 div.sk-toggleable {background-color: white;}#sk-container-id-11 label.sk-toggleable__label {cursor: pointer;display: block;width: 100%;margin-bottom: 0;padding: 0.3em;box-sizing: border-box;text-align: center;}#sk-container-id-11 label.sk-toggleable__label-arrow:before {content: \"▸\";float: left;margin-right: 0.25em;color: #696969;}#sk-container-id-11 label.sk-toggleable__label-arrow:hover:before {color: black;}#sk-container-id-11 div.sk-estimator:hover label.sk-toggleable__label-arrow:before {color: black;}#sk-container-id-11 div.sk-toggleable__content {max-height: 0;max-width: 0;overflow: hidden;text-align: left;background-color: #f0f8ff;}#sk-container-id-11 div.sk-toggleable__content pre {margin: 0.2em;color: black;border-radius: 0.25em;background-color: #f0f8ff;}#sk-container-id-11 input.sk-toggleable__control:checked~div.sk-toggleable__content {max-height: 200px;max-width: 100%;overflow: auto;}#sk-container-id-11 input.sk-toggleable__control:checked~label.sk-toggleable__label-arrow:before {content: \"▾\";}#sk-container-id-11 div.sk-estimator input.sk-toggleable__control:checked~label.sk-toggleable__label {background-color: #d4ebff;}#sk-container-id-11 div.sk-label input.sk-toggleable__control:checked~label.sk-toggleable__label {background-color: #d4ebff;}#sk-container-id-11 input.sk-hidden--visually {border: 0;clip: rect(1px 1px 1px 1px);clip: rect(1px, 1px, 1px, 1px);height: 1px;margin: -1px;overflow: hidden;padding: 0;position: absolute;width: 1px;}#sk-container-id-11 div.sk-estimator {font-family: monospace;background-color: #f0f8ff;border: 1px dotted black;border-radius: 0.25em;box-sizing: border-box;margin-bottom: 0.5em;}#sk-container-id-11 div.sk-estimator:hover {background-color: #d4ebff;}#sk-container-id-11 div.sk-parallel-item::after {content: \"\";width: 100%;border-bottom: 1px solid gray;flex-grow: 1;}#sk-container-id-11 div.sk-label:hover label.sk-toggleable__label {background-color: #d4ebff;}#sk-container-id-11 div.sk-serial::before {content: \"\";position: absolute;border-left: 1px solid gray;box-sizing: border-box;top: 0;bottom: 0;left: 50%;z-index: 0;}#sk-container-id-11 div.sk-serial {display: flex;flex-direction: column;align-items: center;background-color: white;padding-right: 0.2em;padding-left: 0.2em;position: relative;}#sk-container-id-11 div.sk-item {position: relative;z-index: 1;}#sk-container-id-11 div.sk-parallel {display: flex;align-items: stretch;justify-content: center;background-color: white;position: relative;}#sk-container-id-11 div.sk-item::before, #sk-container-id-11 div.sk-parallel-item::before {content: \"\";position: absolute;border-left: 1px solid gray;box-sizing: border-box;top: 0;bottom: 0;left: 50%;z-index: -1;}#sk-container-id-11 div.sk-parallel-item {display: flex;flex-direction: column;z-index: 1;position: relative;background-color: white;}#sk-container-id-11 div.sk-parallel-item:first-child::after {align-self: flex-end;width: 50%;}#sk-container-id-11 div.sk-parallel-item:last-child::after {align-self: flex-start;width: 50%;}#sk-container-id-11 div.sk-parallel-item:only-child::after {width: 0;}#sk-container-id-11 div.sk-dashed-wrapped {border: 1px dashed gray;margin: 0 0.4em 0.5em 0.4em;box-sizing: border-box;padding-bottom: 0.4em;background-color: white;}#sk-container-id-11 div.sk-label label {font-family: monospace;font-weight: bold;display: inline-block;line-height: 1.2em;}#sk-container-id-11 div.sk-label-container {text-align: center;}#sk-container-id-11 div.sk-container {/* jupyter's `normalize.less` sets `[hidden] { display: none; }` but bootstrap.min.css set `[hidden] { display: none !important; }` so we also need the `!important` here to be able to override the default hidden behavior on the sphinx rendered scikit-learn.org. See: https://github.com/scikit-learn/scikit-learn/issues/21755 */display: inline-block !important;position: relative;}#sk-container-id-11 div.sk-text-repr-fallback {display: none;}</style><div id=\"sk-container-id-11\" class=\"sk-top-container\"><div class=\"sk-text-repr-fallback\"><pre>DecisionTreeClassifier(max_depth=2, random_state=95)</pre><b>In a Jupyter environment, please rerun this cell to show the HTML representation or trust the notebook. <br />On GitHub, the HTML representation is unable to render, please try loading this page with nbviewer.org.</b></div><div class=\"sk-container\" hidden><div class=\"sk-item\"><div class=\"sk-estimator sk-toggleable\"><input class=\"sk-toggleable__control sk-hidden--visually\" id=\"sk-estimator-id-11\" type=\"checkbox\" checked><label for=\"sk-estimator-id-11\" class=\"sk-toggleable__label sk-toggleable__label-arrow\">DecisionTreeClassifier</label><div class=\"sk-toggleable__content\"><pre>DecisionTreeClassifier(max_depth=2, random_state=95)</pre></div></div></div></div></div>"
      ],
      "text/plain": [
       "DecisionTreeClassifier(max_depth=2, random_state=95)"
      ]
     },
     "execution_count": 112,
     "metadata": {},
     "output_type": "execute_result"
    }
   ],
   "source": [
    "treeClf = treeClf.fit(xtrain, ytrain)\n",
    "treeClf"
   ]
  },
  {
   "cell_type": "markdown",
   "id": "d83cdb6f",
   "metadata": {},
   "source": [
    "**tree plot**"
   ]
  },
  {
   "cell_type": "code",
   "execution_count": 113,
   "id": "bf36683d",
   "metadata": {},
   "outputs": [
    {
     "data": {
      "text/plain": [
       "[Text(0.5, 0.8333333333333334, 'x[5] <= 0.5\\ngini = 0.473\\nsamples = 534\\nvalue = [329, 205]'),\n",
       " Text(0.25, 0.5, 'x[0] <= 2.5\\ngini = 0.371\\nsamples = 191\\nvalue = [47, 144]'),\n",
       " Text(0.125, 0.16666666666666666, 'gini = 0.074\\nsamples = 104\\nvalue = [4, 100]'),\n",
       " Text(0.375, 0.16666666666666666, 'gini = 0.5\\nsamples = 87\\nvalue = [43, 44]'),\n",
       " Text(0.75, 0.5, 'x[3] <= 15.173\\ngini = 0.292\\nsamples = 343\\nvalue = [282, 61]'),\n",
       " Text(0.625, 0.16666666666666666, 'gini = 0.192\\nsamples = 204\\nvalue = [182, 22]'),\n",
       " Text(0.875, 0.16666666666666666, 'gini = 0.404\\nsamples = 139\\nvalue = [100, 39]')]"
      ]
     },
     "execution_count": 113,
     "metadata": {},
     "output_type": "execute_result"
    },
    {
     "data": {
      "image/png": "[encoded data removed]",
      "text/plain": [
       "<Figure size 640x480 with 1 Axes>"
      ]
     },
     "metadata": {},
     "output_type": "display_data"
    }
   ],
   "source": [
    "plot_tree(treeClf)"
   ]
  },
  {
   "cell_type": "markdown",
   "id": "05468ca9",
   "metadata": {},
   "source": [
    "**make prediction**"
   ]
  },
  {
   "cell_type": "code",
   "execution_count": 114,
   "id": "074affc8",
   "metadata": {
    "scrolled": true
   },
   "outputs": [
    {
     "data": {
      "text/plain": [
       "array([1, 0, 1, 1, 0, 1, 0, 1, 0, 0, 1, 0, 0, 1, 1, 0, 1, 0, 1, 0])"
      ]
     },
     "execution_count": 114,
     "metadata": {},
     "output_type": "execute_result"
    }
   ],
   "source": [
    "ypred = treeClf.predict(xtrain)\n",
    "ypred[:20]"
   ]
  },
  {
   "cell_type": "code",
   "execution_count": 115,
   "id": "4732b50c",
   "metadata": {},
   "outputs": [
    {
     "data": {
      "text/plain": [
       "array([0, 1])"
      ]
     },
     "execution_count": 115,
     "metadata": {},
     "output_type": "execute_result"
    }
   ],
   "source": [
    "# meaning of predictions\n",
    "treeClf.classes_\n",
    "\n",
    "# 1 == survived\n",
    "# 0 == didn't make it"
   ]
  },
  {
   "cell_type": "markdown",
   "id": "8e91a4e9",
   "metadata": {},
   "source": [
    "**Estimate probability**"
   ]
  },
  {
   "cell_type": "code",
   "execution_count": 116,
   "id": "568a51a7",
   "metadata": {},
   "outputs": [
    {
     "data": {
      "text/plain": [
       "array([[0.03846154, 0.96153846],\n",
       "       [0.89215686, 0.10784314],\n",
       "       [0.03846154, 0.96153846],\n",
       "       ...,\n",
       "       [0.89215686, 0.10784314],\n",
       "       [0.89215686, 0.10784314],\n",
       "       [0.49425287, 0.50574713]])"
      ]
     },
     "execution_count": 116,
     "metadata": {},
     "output_type": "execute_result"
    }
   ],
   "source": [
    "treeClf.predict_proba(xtrain)"
   ]
  },
  {
   "cell_type": "markdown",
   "id": "12afaf3a",
   "metadata": {},
   "source": [
    "3. Evaluate your in-sample results using the model score, confusion matrix, and classification report.\n",
    "\n",
    "|**actual**|**predicted**|**case**|\n",
    "|----|----|----|\n",
    "|True | Positive| number of occurrences where y is true and y is predicted true.|\n",
    "|True | Negative| number of occurrences where y is false and y is predicted false.|\n",
    "|False | Positive| number of occurrences where y is false and y is predicted true.|\n",
    "|False | Negative| number of occurrences where y is true and y is predicted false.|"
   ]
  },
  {
   "cell_type": "markdown",
   "id": "5689a853",
   "metadata": {},
   "source": [
    "**Accurecy of model**"
   ]
  },
  {
   "cell_type": "code",
   "execution_count": 117,
   "id": "1ceefcda",
   "metadata": {},
   "outputs": [
    {
     "name": "stdout",
     "output_type": "stream",
     "text": [
      "Accurecy of decision tree on training: 0.797752808988764\n"
     ]
    }
   ],
   "source": [
    "accurecy = treeClf.score(xtrain,ytrain)\n",
    "print(\"Accurecy of decision tree on training:\", accurecy)"
   ]
  },
  {
   "cell_type": "markdown",
   "id": "e1f19483",
   "metadata": {},
   "source": [
    "**Confusion matrix**"
   ]
  },
  {
   "cell_type": "code",
   "execution_count": 118,
   "id": "69908507",
   "metadata": {},
   "outputs": [
    {
     "data": {
      "text/plain": [
       "array([[282,  47],\n",
       "       [ 61, 144]])"
      ]
     },
     "execution_count": 118,
     "metadata": {},
     "output_type": "execute_result"
    }
   ],
   "source": [
    "confusion_matrix(ytrain,ypred)"
   ]
  },
  {
   "cell_type": "markdown",
   "id": "9d8762ee",
   "metadata": {},
   "source": [
    "4. Compute: Accuracy, true positive rate, false positive rate, true negative rate, false negative rate, precision, recall, f1-score, and support."
   ]
  },
  {
   "cell_type": "code",
   "execution_count": 119,
   "id": "fb26c455",
   "metadata": {},
   "outputs": [
    {
     "name": "stdout",
     "output_type": "stream",
     "text": [
      "              precision    recall  f1-score   support\n",
      "\n",
      "           0       0.82      0.86      0.84       329\n",
      "           1       0.75      0.70      0.73       205\n",
      "\n",
      "    accuracy                           0.80       534\n",
      "   macro avg       0.79      0.78      0.78       534\n",
      "weighted avg       0.80      0.80      0.80       534\n",
      "\n"
     ]
    }
   ],
   "source": [
    "print(classification_report(ytrain, ypred))"
   ]
  },
  {
   "cell_type": "code",
   "execution_count": 120,
   "id": "c54db7b8",
   "metadata": {},
   "outputs": [
    {
     "data": {
      "text/plain": [
       "<sklearn.metrics._plot.confusion_matrix.ConfusionMatrixDisplay at 0x28a74d330>"
      ]
     },
     "execution_count": 120,
     "metadata": {},
     "output_type": "execute_result"
    },
    {
     "data": {
      "image/png": "[encoded data removed]",
      "text/plain": [
       "<Figure size 640x480 with 2 Axes>"
      ]
     },
     "metadata": {},
     "output_type": "display_data"
    }
   ],
   "source": [
    "ConfusionMatrixDisplay.from_estimator(treeClf, xtrain, ytrain)"
   ]
  },
  {
   "cell_type": "markdown",
   "id": "543f2bcc",
   "metadata": {},
   "source": [
    "5. Run through steps 2-4 using a different max_depth value."
   ]
  },
  {
   "cell_type": "code",
   "execution_count": 121,
   "id": "71ea1a30",
   "metadata": {},
   "outputs": [],
   "source": [
    "def decision_tree_flow(depth):\n",
    "    # create tree object\n",
    "    # for classification you can change the algorithm to gini or entropy (information gain).  \n",
    "    # gini is default\n",
    "\n",
    "    treeClf = DecisionTreeClassifier(max_depth= depth, random_state=95)\n",
    "    \n",
    "    # fit model\n",
    "    treeClf = treeClf.fit(xtrain, ytrain)\n",
    "    \n",
    "    # plot tree\n",
    "    treePlot = plot_tree(treeClf)\n",
    "    \n",
    "    #make predictions\n",
    "    ypred = treeClf.predict(xtrain)\n",
    "    \n",
    "    # estimate probability\n",
    "    ypred_proba = treeClf.predict_proba(xtrain)\n",
    "    \n",
    "    # confusion matrix\n",
    "    confMtx = confusion_matrix(ytrain,ypred)\n",
    "    \n",
    "    # classification report\n",
    "    clReport = classification_report(ytrain, ypred)\n",
    "    print(clReport)\n",
    "    \n",
    "    # heat map\n",
    "    visual = ConfusionMatrixDisplay.from_estimator(treeClf, xtrain, ytrain)\n",
    "    \n",
    "    return treePlot, ypred, ypred_proba, confMtx, clReport, visual\n"
   ]
  },
  {
   "cell_type": "code",
   "execution_count": 122,
   "id": "a9019182",
   "metadata": {},
   "outputs": [
    {
     "name": "stdout",
     "output_type": "stream",
     "text": [
      "              precision    recall  f1-score   support\n",
      "\n",
      "           0       0.84      0.88      0.86       329\n",
      "           1       0.80      0.72      0.76       205\n",
      "\n",
      "    accuracy                           0.82       534\n",
      "   macro avg       0.82      0.80      0.81       534\n",
      "weighted avg       0.82      0.82      0.82       534\n",
      "\n"
     ]
    },
    {
     "data": {
      "image/png": "[encoded data removed]",
      "text/plain": [
       "<Figure size 640x480 with 1 Axes>"
      ]
     },
     "metadata": {},
     "output_type": "display_data"
    },
    {
     "data": {
      "image/png": "[encoded data removed]",
      "text/plain": [
       "<Figure size 640x480 with 2 Axes>"
      ]
     },
     "metadata": {},
     "output_type": "display_data"
    }
   ],
   "source": [
    "treePlot, ypred, ypred_proba, confMtx, clReport, visual = decision_tree_flow(depth = 4)"
   ]
  },
  {
   "cell_type": "markdown",
   "id": "dafd1dd4",
   "metadata": {},
   "source": [
    "6. Which model performs better on your in-sample data?"
   ]
  },
  {
   "cell_type": "code",
   "execution_count": 139,
   "id": "375bd4d7",
   "metadata": {},
   "outputs": [],
   "source": [
    "results = []\n",
    "for i in range(1,11):\n",
    "#     base line\n",
    "    baseline_acc_score = accuracy_score(train.survived, train.baseline)\n",
    "\n",
    "#      create tree object\n",
    "    # for classification you can change the algorithm to gini or entropy (information gain).  \n",
    "    # gini is default\n",
    "\n",
    "    treeClf = DecisionTreeClassifier(max_depth= i, random_state=95)\n",
    "    \n",
    "    # fit model\n",
    "    treeClf = treeClf.fit(xtrain, ytrain)\n",
    "    \n",
    "    # train accurecy score\n",
    "    trainScore = treeClf.score(xtrain, ytrain)\n",
    "    validateScore = treeClf.score(xval, yval)\n",
    "    \n",
    "    clf_dic = {\n",
    "        \"depth\": i,\n",
    "        \"train_score\": trainScore,\n",
    "        \"validate_score\": validateScore,\n",
    "        \"difference\": trainScore - validateScore,\n",
    "        \"train_baseline_diff\": baseline_acc_score - trainScore,\n",
    "        \"val_baseline_diff\": baseline_acc_score - validateScore\n",
    "    }\n",
    "    \n",
    "    results.append(clf_dic)\n",
    "    "
   ]
  },
  {
   "cell_type": "code",
   "execution_count": 140,
   "id": "c2852b63",
   "metadata": {},
   "outputs": [
    {
     "data": {
      "text/html": [
       "<div>\n",
       "<style scoped>\n",
       "    .dataframe tbody tr th:only-of-type {\n",
       "        vertical-align: middle;\n",
       "    }\n",
       "\n",
       "    .dataframe tbody tr th {\n",
       "        vertical-align: top;\n",
       "    }\n",
       "\n",
       "    .dataframe thead th {\n",
       "        text-align: right;\n",
       "    }\n",
       "</style>\n",
       "<table border=\"1\" class=\"dataframe\">\n",
       "  <thead>\n",
       "    <tr style=\"text-align: right;\">\n",
       "      <th></th>\n",
       "      <th>depth</th>\n",
       "      <th>train_score</th>\n",
       "      <th>validate_score</th>\n",
       "      <th>difference</th>\n",
       "      <th>train_baseline_diff</th>\n",
       "      <th>val_baseline_diff</th>\n",
       "    </tr>\n",
       "  </thead>\n",
       "  <tbody>\n",
       "    <tr>\n",
       "      <th>0</th>\n",
       "      <td>1</td>\n",
       "      <td>0.797753</td>\n",
       "      <td>0.769663</td>\n",
       "      <td>0.028090</td>\n",
       "      <td>-0.181648</td>\n",
       "      <td>-0.153558</td>\n",
       "    </tr>\n",
       "    <tr>\n",
       "      <th>1</th>\n",
       "      <td>2</td>\n",
       "      <td>0.797753</td>\n",
       "      <td>0.769663</td>\n",
       "      <td>0.028090</td>\n",
       "      <td>-0.181648</td>\n",
       "      <td>-0.153558</td>\n",
       "    </tr>\n",
       "    <tr>\n",
       "      <th>2</th>\n",
       "      <td>3</td>\n",
       "      <td>0.820225</td>\n",
       "      <td>0.797753</td>\n",
       "      <td>0.022472</td>\n",
       "      <td>-0.204120</td>\n",
       "      <td>-0.181648</td>\n",
       "    </tr>\n",
       "    <tr>\n",
       "      <th>3</th>\n",
       "      <td>4</td>\n",
       "      <td>0.822097</td>\n",
       "      <td>0.769663</td>\n",
       "      <td>0.052434</td>\n",
       "      <td>-0.205993</td>\n",
       "      <td>-0.153558</td>\n",
       "    </tr>\n",
       "    <tr>\n",
       "      <th>4</th>\n",
       "      <td>5</td>\n",
       "      <td>0.838951</td>\n",
       "      <td>0.741573</td>\n",
       "      <td>0.097378</td>\n",
       "      <td>-0.222846</td>\n",
       "      <td>-0.125468</td>\n",
       "    </tr>\n",
       "  </tbody>\n",
       "</table>\n",
       "</div>"
      ],
      "text/plain": [
       "   depth  train_score  validate_score  difference  train_baseline_diff  \\\n",
       "0      1     0.797753        0.769663    0.028090            -0.181648   \n",
       "1      2     0.797753        0.769663    0.028090            -0.181648   \n",
       "2      3     0.820225        0.797753    0.022472            -0.204120   \n",
       "3      4     0.822097        0.769663    0.052434            -0.205993   \n",
       "4      5     0.838951        0.741573    0.097378            -0.222846   \n",
       "\n",
       "   val_baseline_diff  \n",
       "0          -0.153558  \n",
       "1          -0.153558  \n",
       "2          -0.181648  \n",
       "3          -0.153558  \n",
       "4          -0.125468  "
      ]
     },
     "execution_count": 140,
     "metadata": {},
     "output_type": "execute_result"
    }
   ],
   "source": [
    "res_df = pd.DataFrame(results)\n",
    "res_df.head()"
   ]
  },
  {
   "cell_type": "markdown",
   "id": "d3d741b7",
   "metadata": {},
   "source": [
    "7. Which model performs best on your out-of-sample data, the validate set?"
   ]
  },
  {
   "cell_type": "code",
   "execution_count": 141,
   "id": "2742b61f",
   "metadata": {},
   "outputs": [
    {
     "data": {
      "text/html": [
       "<div>\n",
       "<style scoped>\n",
       "    .dataframe tbody tr th:only-of-type {\n",
       "        vertical-align: middle;\n",
       "    }\n",
       "\n",
       "    .dataframe tbody tr th {\n",
       "        vertical-align: top;\n",
       "    }\n",
       "\n",
       "    .dataframe thead th {\n",
       "        text-align: right;\n",
       "    }\n",
       "</style>\n",
       "<table border=\"1\" class=\"dataframe\">\n",
       "  <thead>\n",
       "    <tr style=\"text-align: right;\">\n",
       "      <th></th>\n",
       "      <th>0</th>\n",
       "    </tr>\n",
       "  </thead>\n",
       "  <tbody>\n",
       "    <tr>\n",
       "      <th>depth</th>\n",
       "      <td>10.000000</td>\n",
       "    </tr>\n",
       "    <tr>\n",
       "      <th>train_score</th>\n",
       "      <td>0.919476</td>\n",
       "    </tr>\n",
       "    <tr>\n",
       "      <th>validate_score</th>\n",
       "      <td>0.797753</td>\n",
       "    </tr>\n",
       "    <tr>\n",
       "      <th>difference</th>\n",
       "      <td>0.144195</td>\n",
       "    </tr>\n",
       "    <tr>\n",
       "      <th>train_baseline_diff</th>\n",
       "      <td>-0.181648</td>\n",
       "    </tr>\n",
       "    <tr>\n",
       "      <th>val_baseline_diff</th>\n",
       "      <td>-0.125468</td>\n",
       "    </tr>\n",
       "  </tbody>\n",
       "</table>\n",
       "</div>"
      ],
      "text/plain": [
       "                             0\n",
       "depth                10.000000\n",
       "train_score           0.919476\n",
       "validate_score        0.797753\n",
       "difference            0.144195\n",
       "train_baseline_diff  -0.181648\n",
       "val_baseline_diff    -0.125468"
      ]
     },
     "execution_count": 141,
     "metadata": {},
     "output_type": "execute_result"
    }
   ],
   "source": [
    "pd.DataFrame(res_df.max())"
   ]
  },
  {
   "cell_type": "code",
   "execution_count": 148,
   "id": "57c8d5d4",
   "metadata": {
    "scrolled": true
   },
   "outputs": [
    {
     "data": {
      "image/png": "[encoded data removed]",
      "text/plain": [
       "<Figure size 640x480 with 1 Axes>"
      ]
     },
     "metadata": {},
     "output_type": "display_data"
    }
   ],
   "source": [
    "res_df[res_df.columns[:-3]].set_index(\"depth\").plot()\n",
    "plt.ylabel('accuracy')\n",
    "plt.xticks(np.arange(0,11))\n",
    "plt.grid()\n",
    "plt.show()"
   ]
  },
  {
   "cell_type": "markdown",
   "id": "212a452e",
   "metadata": {},
   "source": [
    "1. Work through these same exercises using the Telco dataset.\n",
    "2. Experiment with this model on other datasets with a higher number of output classes."
   ]
  },
  {
   "cell_type": "code",
   "execution_count": null,
   "id": "4e60c943",
   "metadata": {},
   "outputs": [],
   "source": []
  },
  {
   "cell_type": "code",
   "execution_count": null,
   "id": "e04dca0e",
   "metadata": {},
   "outputs": [],
   "source": []
  }
 ],
 "metadata": {
  "kernelspec": {
   "display_name": "Python 3 (ipykernel)",
   "language": "python",
   "name": "python3"
  },
  "language_info": {
   "codemirror_mode": {
    "name": "ipython",
    "version": 3
   },
   "file_extension": ".py",
   "mimetype": "text/x-python",
   "name": "python",
   "nbconvert_exporter": "python",
   "pygments_lexer": "ipython3",
   "version": "3.10.9"
  }
 },
 "nbformat": 4,
 "nbformat_minor": 5
}
